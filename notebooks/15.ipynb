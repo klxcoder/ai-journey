{
 "cells": [
  {
   "cell_type": "markdown",
   "id": "8dddef8a",
   "metadata": {},
   "source": [
    "# Compare Hopfield and Boltzmann\n",
    "- Training:\n",
    "  + Hopfield: Uses Hebbian rule (simple outer product).\n",
    "  + Boltzmann: Uses stochastic gradient descent via contrastive divergence (more complex, slower).\n",
    "- Inference:\n",
    "  + Hopfield: Deterministic energy minimization.\n",
    "  + Boltzmann: Stochastic sampling (e.g., Gibbs sampling)."
   ]
  }
 ],
 "metadata": {
  "language_info": {
   "name": "python"
  }
 },
 "nbformat": 4,
 "nbformat_minor": 5
}
