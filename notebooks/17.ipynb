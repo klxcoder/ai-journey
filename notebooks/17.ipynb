{
 "cells": [
  {
   "cell_type": "markdown",
   "id": "577a0739",
   "metadata": {},
   "source": [
    "# Restricted Boltzmann Machine (RBM) with sequential training"
   ]
  },
  {
   "cell_type": "code",
   "execution_count": 11,
   "id": "e65cc281",
   "metadata": {},
   "outputs": [],
   "source": [
    "import numpy as np\n",
    "import matplotlib.pyplot as plt\n",
    "from numpy.typing import NDArray"
   ]
  },
  {
   "cell_type": "code",
   "execution_count": 12,
   "id": "6f07fa8d",
   "metadata": {},
   "outputs": [],
   "source": [
    "class RBM:\n",
    "    def __init__(self, n_visible: int, n_hidden: int, learning_rate: float=0.1):\n",
    "        self.n_visible = n_visible\n",
    "        self.n_hidden = n_hidden\n",
    "        self.learning_rate = learning_rate\n",
    "        self.weights = np.random.normal(0, 0.01, size=(n_visible, n_hidden))\n",
    "        self.v_bias = np.zeros(n_visible)\n",
    "        self.h_bias = np.zeros(n_hidden)\n",
    "\n",
    "    def sigmoid(self, x: NDArray[np.float64]):\n",
    "        return 1 / (1 + np.exp(-x))\n",
    "\n",
    "    def train_pattern(self, pattern: NDArray[np.float64], k: int=1, epochs: int=5):\n",
    "        for _ in range(epochs):\n",
    "            v = pattern\n",
    "            h_prob: NDArray[np.float64] = np.array([])\n",
    "            v_sample: NDArray[np.int64] = np.array([])\n",
    "            for _ in range(k):  # Contrastive Divergence (CD-k)\n",
    "                h_prob = self.sigmoid(np.dot(v, self.weights) + self.h_bias)\n",
    "                h_sample = np.random.binomial(1, h_prob)\n",
    "                v_prob: NDArray[np.float64] = self.sigmoid(np.dot(h_sample, self.weights.T) + self.v_bias)\n",
    "                v_sample: NDArray[np.int64] = np.random.binomial(1, v_prob)\n",
    "            # Update weights\n",
    "            pos_grad = np.outer(pattern, h_prob)\n",
    "            neg_grad = np.outer(v_sample, self.sigmoid(np.dot(v_sample, self.weights) + self.h_bias))\n",
    "\n",
    "            self.weights += self.learning_rate * (pos_grad - neg_grad)\n",
    "            self.v_bias += self.learning_rate * (pattern - v_sample)\n",
    "            self.h_bias += self.learning_rate * (h_prob - self.sigmoid(np.dot(v_sample, self.weights) + self.h_bias))\n",
    "\n",
    "    def reconstruct(self, pattern: NDArray[np.float64]):\n",
    "        h = self.sigmoid(np.dot(pattern, self.weights) + self.h_bias)\n",
    "        v = self.sigmoid(np.dot(h, self.weights.T) + self.v_bias)\n",
    "        return (v > 0.5).astype(int)"
   ]
  },
  {
   "cell_type": "code",
   "execution_count": 13,
   "id": "55aec419",
   "metadata": {},
   "outputs": [],
   "source": [
    "def plot_patterns(patterns: list[NDArray[np.int64]], title: str):\n",
    "    _, axes = plt.subplots(1, len(patterns))\n",
    "    for ax, pattern in zip(axes, patterns):\n",
    "        ax.imshow(pattern.reshape(8, 8), cmap='gray')\n",
    "        ax.axis('off')\n",
    "    plt.suptitle(title)\n",
    "    plt.show()"
   ]
  },
  {
   "cell_type": "code",
   "execution_count": 14,
   "id": "7f52c7ee",
   "metadata": {},
   "outputs": [
    {
     "data": {
      "image/png": "[encoded data removed]",
      "text/plain": [
       "<Figure size 640x480 with 2 Axes>"
      ]
     },
     "metadata": {},
     "output_type": "display_data"
    },
    {
     "data": {
      "image/png": "[encoded data removed]",
      "text/plain": [
       "<Figure size 640x480 with 2 Axes>"
      ]
     },
     "metadata": {},
     "output_type": "display_data"
    }
   ],
   "source": [
    "# Define 2 binary patterns\n",
    "pattern_0 = np.array([\n",
    "    [0,0,1,1,1,1,0,0],\n",
    "    [0,1,1,0,0,1,1,0],\n",
    "    [1,1,0,0,0,0,1,1],\n",
    "    [1,1,0,0,0,0,1,1],\n",
    "    [1,1,0,0,0,0,1,1],\n",
    "    [1,1,0,0,0,0,1,1],\n",
    "    [0,1,1,0,0,1,1,0],\n",
    "    [0,0,1,1,1,1,0,0]\n",
    "]).flatten()\n",
    "\n",
    "pattern_1 = np.array([\n",
    "    [1,0,0,0,0,0,0,1],\n",
    "    [0,1,0,0,0,0,1,0],\n",
    "    [0,0,1,0,0,1,0,0],\n",
    "    [0,0,0,1,1,0,0,0],\n",
    "    [0,0,0,1,1,0,0,0],\n",
    "    [0,0,1,0,0,1,0,0],\n",
    "    [0,1,0,0,0,0,1,0],\n",
    "    [1,0,0,0,0,0,0,1]\n",
    "]).flatten()\n",
    "\n",
    "rbm = RBM(n_visible=64, n_hidden=32)\n",
    "\n",
    "# Sequential training\n",
    "rbm.train_pattern(pattern_0, k=1)\n",
    "rbm.train_pattern(pattern_1, k=1)  # more recent\n",
    "\n",
    "# Test both\n",
    "recon_0 = rbm.reconstruct(pattern_0)\n",
    "recon_1 = rbm.reconstruct(pattern_1)\n",
    "\n",
    "# Visualization\n",
    "plot_patterns([pattern_0, recon_0], title=\"Original | Recalled\")\n",
    "plot_patterns([pattern_1, recon_1], title=\"Original | Recalled\")"
   ]
  }
 ],
 "metadata": {
  "kernelspec": {
   "display_name": ".venv",
   "language": "python",
   "name": "python3"
  },
  "language_info": {
   "codemirror_mode": {
    "name": "ipython",
    "version": 3
   },
   "file_extension": ".py",
   "mimetype": "text/x-python",
   "name": "python",
   "nbconvert_exporter": "python",
   "pygments_lexer": "ipython3",
   "version": "3.9.18"
  }
 },
 "nbformat": 4,
 "nbformat_minor": 5
}
