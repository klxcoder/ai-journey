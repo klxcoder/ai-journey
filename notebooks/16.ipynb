{
 "cells": [
  {
   "cell_type": "markdown",
   "id": "1e6b715c",
   "metadata": {},
   "source": [
    "# Simple Restricted Boltzmann Machine (RBM)"
   ]
  },
  {
   "cell_type": "code",
   "execution_count": 1,
   "id": "42e635a7",
   "metadata": {},
   "outputs": [],
   "source": [
    "import numpy as np\n",
    "import matplotlib.pyplot as plt\n",
    "from numpy.typing import NDArray\n",
    "\n",
    "class RBM:\n",
    "    def __init__(self, num_visible: int, num_hidden: int):\n",
    "        self.num_visible = num_visible\n",
    "        self.num_hidden = num_hidden\n",
    "        # Initialize weights and biases\n",
    "        self.weights = np.random.normal(0, 0.01, (num_visible, num_hidden))\n",
    "        self.visible_bias = np.zeros(num_visible)\n",
    "        self.hidden_bias = np.zeros(num_hidden)\n",
    "\n",
    "    def sigmoid(self, x: NDArray[np.float64]):\n",
    "        return 1 / (1 + np.exp(-x))\n",
    "\n",
    "    def sample_prob(self, probs: NDArray[np.float64]):\n",
    "        return (np.random.rand(*probs.shape) < probs).astype(np.float32)\n",
    "\n",
    "    def train(self, data: NDArray[np.float32], epochs: int =1000, lr: float=0.1):\n",
    "        for _ in range(epochs):\n",
    "            for x in data:\n",
    "                # Positive phase\n",
    "                v0 = x\n",
    "                h0_prob = self.sigmoid(np.dot(v0, self.weights) + self.hidden_bias)\n",
    "                h0 = self.sample_prob(h0_prob)\n",
    "\n",
    "                # Negative phase\n",
    "                v1_prob = self.sigmoid(np.dot(h0, self.weights.T) + self.visible_bias)\n",
    "                v1 = self.sample_prob(v1_prob)\n",
    "                h1_prob = self.sigmoid(np.dot(v1, self.weights) + self.hidden_bias)\n",
    "\n",
    "                # Weight updates\n",
    "                self.weights += lr * (np.outer(v0, h0_prob) - np.outer(v1, h1_prob))\n",
    "                self.visible_bias += lr * (v0 - v1)\n",
    "                self.hidden_bias += lr * (h0_prob - h1_prob)\n",
    "\n",
    "    def reconstruct(self, v: NDArray[np.float32], steps: int=1):\n",
    "        for _ in range(steps):\n",
    "            h_prob = self.sigmoid(np.dot(v, self.weights) + self.hidden_bias)\n",
    "            h = self.sample_prob(h_prob)\n",
    "            v_prob = self.sigmoid(np.dot(h, self.weights.T) + self.visible_bias)\n",
    "            v = self.sample_prob(v_prob)\n",
    "        return v"
   ]
  },
  {
   "cell_type": "code",
   "execution_count": 2,
   "id": "0dcf11b2",
   "metadata": {},
   "outputs": [
    {
     "data": {
      "text/plain": [
       "<Figure size 1000x300 with 0 Axes>"
      ]
     },
     "metadata": {},
     "output_type": "display_data"
    },
    {
     "data": {
      "image/png": "[encoded data removed]",
      "text/plain": [
       "<Figure size 640x480 with 3 Axes>"
      ]
     },
     "metadata": {},
     "output_type": "display_data"
    },
    {
     "data": {
      "text/plain": [
       "<Figure size 1000x300 with 0 Axes>"
      ]
     },
     "metadata": {},
     "output_type": "display_data"
    },
    {
     "data": {
      "image/png": "[encoded data removed]",
      "text/plain": [
       "<Figure size 640x480 with 3 Axes>"
      ]
     },
     "metadata": {},
     "output_type": "display_data"
    }
   ],
   "source": [
    "def plot_patterns(patterns: list[NDArray[np.float32]], title: str):\n",
    "    _, axes = plt.subplots(1, len(patterns))\n",
    "    for ax, pattern in zip(axes, patterns):\n",
    "        ax.imshow(pattern.reshape(8, 8), cmap='gray')\n",
    "        ax.axis('off')\n",
    "    plt.suptitle(title)\n",
    "    plt.show()\n",
    "\n",
    "\n",
    "# Define two 8x8 binary patterns (digit-like)\n",
    "pattern_1 = np.array([\n",
    "    [0,1,1,1,1,1,1,0],\n",
    "    [1,0,0,0,0,0,0,1],\n",
    "    [1,0,1,1,1,1,0,1],\n",
    "    [1,0,1,0,0,1,0,1],\n",
    "    [1,0,1,0,0,1,0,1],\n",
    "    [1,0,1,1,1,1,0,1],\n",
    "    [1,0,0,0,0,0,0,1],\n",
    "    [0,1,1,1,1,1,1,0]\n",
    "])\n",
    "\n",
    "pattern_2 = np.array([\n",
    "    [1,0,0,0,0,0,0,1],\n",
    "    [0,1,0,0,0,0,1,0],\n",
    "    [0,0,1,0,0,1,0,0],\n",
    "    [0,0,0,1,1,0,0,0],\n",
    "    [0,0,0,1,1,0,0,0],\n",
    "    [0,0,1,0,0,1,0,0],\n",
    "    [0,1,0,0,0,0,1,0],\n",
    "    [1,0,0,0,0,0,0,1]\n",
    "])\n",
    "\n",
    "data = np.array([pattern_1.flatten(), pattern_2.flatten()]).astype(np.float32)\n",
    "\n",
    "# Train RBM\n",
    "rbm = RBM(num_visible=64, num_hidden=32)\n",
    "rbm.train(data, epochs=1000, lr=0.1)\n",
    "\n",
    "def test(flat_pattern: NDArray[np.float32]):\n",
    "    # Test recall with noisy input\n",
    "    noisy = np.copy(flat_pattern)\n",
    "    noisy[0] = not noisy[0]\n",
    "\n",
    "    reconstructed = rbm.reconstruct(noisy, steps=1)\n",
    "\n",
    "    # Visualize\n",
    "    plt.figure(figsize=(10, 3))\n",
    "    plot_patterns([flat_pattern, noisy, reconstructed], \"Original | Noisy | Recalled\")\n",
    "\n",
    "test(data[0])\n",
    "test(data[1])"
   ]
  }
 ],
 "metadata": {
  "kernelspec": {
   "display_name": ".venv",
   "language": "python",
   "name": "python3"
  },
  "language_info": {
   "codemirror_mode": {
    "name": "ipython",
    "version": 3
   },
   "file_extension": ".py",
   "mimetype": "text/x-python",
   "name": "python",
   "nbconvert_exporter": "python",
   "pygments_lexer": "ipython3",
   "version": "3.9.18"
  }
 },
 "nbformat": 4,
 "nbformat_minor": 5
}
