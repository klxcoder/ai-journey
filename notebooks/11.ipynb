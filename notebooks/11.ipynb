{
 "cells": [
  {
   "cell_type": "markdown",
   "id": "44138d6c",
   "metadata": {},
   "source": [
    "# Byte Pair Encoding (BPE) algorithm\n",
    "- is a simple data compression technique adapted for tokenizing text in NLP models"
   ]
  },
  {
   "cell_type": "code",
   "execution_count": 2,
   "id": "b04ed1b4",
   "metadata": {},
   "outputs": [
    {
     "name": "stdout",
     "output_type": "stream",
     "text": [
      "Inital vocab Counter({'l o w _': 1, 'l o w e r _': 1, 'n e w e s t _': 1, 'w i d e s t _': 1})\n",
      "Merge: ('l', 'o')\n",
      "{'lo w _': 1, 'lo w e r _': 1, 'n e w e s t _': 1, 'w i d e s t _': 1}\n",
      "Merge: ('lo', 'w')\n",
      "{'low _': 1, 'low e r _': 1, 'n e w e s t _': 1, 'w i d e s t _': 1}\n",
      "Merge: ('e', 's')\n",
      "{'low _': 1, 'low e r _': 1, 'n e w es t _': 1, 'w i d es t _': 1}\n",
      "Merge: ('es', 't')\n",
      "{'low _': 1, 'low e r _': 1, 'n e w est _': 1, 'w i d est _': 1}\n",
      "Merge: ('est', '_')\n",
      "{'low _': 1, 'low e r _': 1, 'n e w est_': 1, 'w i d est_': 1}\n",
      "Merge: ('low', '_')\n",
      "{'low_': 1, 'low e r _': 1, 'n e w est_': 1, 'w i d est_': 1}\n",
      "Merge: ('low', 'e')\n",
      "{'low_': 1, 'lowe r _': 1, 'n e w est_': 1, 'w i d est_': 1}\n",
      "Merge: ('lowe', 'r')\n",
      "{'low_': 1, 'lower _': 1, 'n e w est_': 1, 'w i d est_': 1}\n",
      "Merge: ('lower', '_')\n",
      "{'low_': 1, 'lower_': 1, 'n e w est_': 1, 'w i d est_': 1}\n",
      "Merge: ('n', 'e')\n",
      "{'low_': 1, 'lower_': 1, 'ne w est_': 1, 'w i d est_': 1}\n"
     ]
    }
   ],
   "source": [
    "from collections import defaultdict, Counter\n",
    "\n",
    "def build_vocab(texts):\n",
    "    vocab = Counter()\n",
    "    for word in texts.split():\n",
    "        chars = list(word) + ['_']  # add end-of-word marker\n",
    "        token = ' '.join(chars)\n",
    "        vocab[token] += 1\n",
    "    return vocab\n",
    "\n",
    "def get_stats(vocab):\n",
    "    pairs = defaultdict(int)\n",
    "    for word, freq in vocab.items():\n",
    "        symbols = word.split()\n",
    "        for i in range(len(symbols)-1):\n",
    "            pairs[(symbols[i], symbols[i+1])] += freq\n",
    "    return pairs\n",
    "\n",
    "def merge_vocab(pair, vocab):\n",
    "    new_vocab = {}\n",
    "    bigram = ' '.join(pair)\n",
    "    replacement = ''.join(pair)\n",
    "    for word in vocab:\n",
    "        new_word = word.replace(bigram, replacement)\n",
    "        new_vocab[new_word] = vocab[word]\n",
    "    return new_vocab\n",
    "\n",
    "# Input text\n",
    "text = \"low lower newest widest\"\n",
    "vocab = build_vocab(text)\n",
    "\n",
    "print(f'Inital vocab {vocab}')\n",
    "\n",
    "# BPE loop\n",
    "num_merges = 10\n",
    "for _ in range(num_merges):\n",
    "    pairs = get_stats(vocab)\n",
    "    if not pairs:\n",
    "        break\n",
    "    best = max(pairs, key=pairs.get)\n",
    "    vocab = merge_vocab(best, vocab)\n",
    "    print(f\"Merge: {best}\")\n",
    "    print(vocab)\n"
   ]
  }
 ],
 "metadata": {
  "kernelspec": {
   "display_name": ".venv",
   "language": "python",
   "name": "python3"
  },
  "language_info": {
   "codemirror_mode": {
    "name": "ipython",
    "version": 3
   },
   "file_extension": ".py",
   "mimetype": "text/x-python",
   "name": "python",
   "nbconvert_exporter": "python",
   "pygments_lexer": "ipython3",
   "version": "3.9.18"
  }
 },
 "nbformat": 4,
 "nbformat_minor": 5
}
