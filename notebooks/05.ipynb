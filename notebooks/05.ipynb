{
 "cells": [
  {
   "cell_type": "markdown",
   "id": "29633d3f",
   "metadata": {},
   "source": [
    "# File using python"
   ]
  },
  {
   "cell_type": "markdown",
   "id": "02910186",
   "metadata": {},
   "source": [
    "---"
   ]
  },
  {
   "cell_type": "markdown",
   "id": "e193eedb",
   "metadata": {},
   "source": [
    "# Delete all files except \"*.js\" files"
   ]
  },
  {
   "cell_type": "code",
   "execution_count": 1,
   "id": "de27c346",
   "metadata": {},
   "outputs": [
    {
     "name": "stdout",
     "output_type": "stream",
     "text": [
      "Remain express-examples/vhost/index.js\n",
      "Remain express-examples/cookie-sessions/index.js\n",
      "Remain express-examples/view-constructor/index.js\n",
      "Remain express-examples/view-constructor/github-view.js\n",
      "Remain express-examples/web-service/index.js\n",
      "Remain express-examples/mvc/index.js\n",
      "Remain express-examples/mvc/db.js\n",
      "Remain express-examples/mvc/lib/boot.js\n",
      "Remain express-examples/mvc/controllers/user/index.js\n",
      "Remain express-examples/mvc/controllers/pet/index.js\n",
      "Remain express-examples/mvc/controllers/main/index.js\n",
      "Remain express-examples/mvc/controllers/user-pet/index.js\n",
      "Remain express-examples/error/index.js\n",
      "Remain express-examples/content-negotiation/index.js\n",
      "Remain express-examples/content-negotiation/db.js\n",
      "Remain express-examples/content-negotiation/users.js\n",
      "Remain express-examples/ejs/index.js\n",
      "Remain express-examples/params/index.js\n",
      "Remain express-examples/auth/index.js\n",
      "Remain express-examples/hello-world/index.js\n",
      "Remain express-examples/resource/index.js\n",
      "Remain express-examples/route-map/index.js\n",
      "Remain express-examples/downloads/index.js\n",
      "Remain express-examples/cookies/index.js\n",
      "Remain express-examples/error-pages/index.js\n",
      "Remain express-examples/view-locals/index.js\n",
      "Remain express-examples/view-locals/user.js\n",
      "Remain express-examples/static-files/index.js\n",
      "Remain express-examples/static-files/public/js/app.js\n",
      "Remain express-examples/search/index.js\n",
      "Remain express-examples/search/public/client.js\n",
      "Remain express-examples/route-middleware/index.js\n",
      "Remain express-examples/online/index.js\n",
      "Remain express-examples/session/index.js\n",
      "Remain express-examples/session/redis.js\n",
      "Remain express-examples/route-separation/post.js\n",
      "Remain express-examples/route-separation/index.js\n",
      "Remain express-examples/route-separation/site.js\n",
      "Remain express-examples/route-separation/user.js\n",
      "Remain express-examples/multi-router/index.js\n",
      "Remain express-examples/multi-router/controllers/api_v1.js\n",
      "Remain express-examples/multi-router/controllers/api_v2.js\n",
      "Remain express-examples/markdown/index.js\n"
     ]
    }
   ],
   "source": [
    "from pathlib import Path\n",
    "\n",
    "FOLDER = \"express-examples\"\n",
    "\n",
    "for path in Path(FOLDER).rglob('*'):\n",
    "    if path.is_file():\n",
    "        if path.suffix != '.js':\n",
    "            path.unlink()\n",
    "            print(f\"Deleted {path}\")\n",
    "        else:\n",
    "            print(f\"Remain {path}\")"
   ]
  },
  {
   "cell_type": "markdown",
   "id": "6614324b",
   "metadata": {},
   "source": [
    "---"
   ]
  },
  {
   "cell_type": "code",
   "execution_count": 2,
   "id": "cf05b198",
   "metadata": {},
   "outputs": [
    {
     "name": "stdout",
     "output_type": "stream",
     "text": [
      "43\n",
      "[PosixPath('express-examples/vhost/index.js'), PosixPath('express-examples/cookie-sessions/index.js'), PosixPath('express-examples/view-constructor/index.js'), PosixPath('express-examples/view-constructor/github-view.js'), PosixPath('express-examples/web-service/index.js'), PosixPath('express-examples/mvc/index.js'), PosixPath('express-examples/mvc/db.js'), PosixPath('express-examples/mvc/lib/boot.js'), PosixPath('express-examples/mvc/controllers/user/index.js'), PosixPath('express-examples/mvc/controllers/pet/index.js'), PosixPath('express-examples/mvc/controllers/main/index.js'), PosixPath('express-examples/mvc/controllers/user-pet/index.js'), PosixPath('express-examples/error/index.js'), PosixPath('express-examples/content-negotiation/index.js'), PosixPath('express-examples/content-negotiation/db.js'), PosixPath('express-examples/content-negotiation/users.js'), PosixPath('express-examples/ejs/index.js'), PosixPath('express-examples/params/index.js'), PosixPath('express-examples/auth/index.js'), PosixPath('express-examples/hello-world/index.js'), PosixPath('express-examples/resource/index.js'), PosixPath('express-examples/route-map/index.js'), PosixPath('express-examples/downloads/index.js'), PosixPath('express-examples/cookies/index.js'), PosixPath('express-examples/error-pages/index.js'), PosixPath('express-examples/view-locals/index.js'), PosixPath('express-examples/view-locals/user.js'), PosixPath('express-examples/static-files/index.js'), PosixPath('express-examples/static-files/public/js/app.js'), PosixPath('express-examples/search/index.js'), PosixPath('express-examples/search/public/client.js'), PosixPath('express-examples/route-middleware/index.js'), PosixPath('express-examples/online/index.js'), PosixPath('express-examples/session/index.js'), PosixPath('express-examples/session/redis.js'), PosixPath('express-examples/route-separation/post.js'), PosixPath('express-examples/route-separation/index.js'), PosixPath('express-examples/route-separation/site.js'), PosixPath('express-examples/route-separation/user.js'), PosixPath('express-examples/multi-router/index.js'), PosixPath('express-examples/multi-router/controllers/api_v1.js'), PosixPath('express-examples/multi-router/controllers/api_v2.js'), PosixPath('express-examples/markdown/index.js')]\n"
     ]
    }
   ],
   "source": [
    "files = list(Path(FOLDER).rglob('*.js'))\n",
    "\n",
    "print(len(files))\n",
    "print(files)"
   ]
  },
  {
   "cell_type": "markdown",
   "id": "5f3f6913",
   "metadata": {},
   "source": [
    "---"
   ]
  },
  {
   "cell_type": "markdown",
   "id": "610a9ce2",
   "metadata": {},
   "source": [
    "# Set of chatacters from given file"
   ]
  },
  {
   "cell_type": "code",
   "execution_count": 3,
   "id": "3e9e7562",
   "metadata": {},
   "outputs": [
    {
     "name": "stdout",
     "output_type": "stream",
     "text": [
      "express-examples/vhost/index.js\n",
      "50\n",
      "['\\n', ' ', '!', \"'\", '(', ')', '*', '+', ',', '.', '/', '0', '1', '2', '3', '7', ':', ';', '=', 'E', 'H', 'M', 'R', 'S', 'V', '[', ']', 'a', 'b', 'c', 'd', 'e', 'f', 'g', 'h', 'i', 'l', 'm', 'n', 'o', 'p', 'q', 'r', 's', 't', 'u', 'v', 'x', '{', '}']\n"
     ]
    }
   ],
   "source": [
    "file_path = files[0]\n",
    "print(file_path)\n",
    "\n",
    "with open(file_path, 'r', encoding='utf-8') as f:\n",
    "    content = f.read()\n",
    "\n",
    "char_set = set(content)\n",
    "sorted_chars = sorted(char_set)\n",
    "\n",
    "print(len(sorted_chars))\n",
    "print(sorted_chars)"
   ]
  },
  {
   "cell_type": "markdown",
   "id": "18759c29",
   "metadata": {},
   "source": [
    "---"
   ]
  },
  {
   "cell_type": "markdown",
   "id": "a4da97da",
   "metadata": {},
   "source": [
    "# Set of characters from multiple files"
   ]
  },
  {
   "cell_type": "code",
   "execution_count": 4,
   "id": "8139f4dd",
   "metadata": {},
   "outputs": [
    {
     "name": "stdout",
     "output_type": "stream",
     "text": [
      "98\n",
      "['\\n', ' ', '!', '\"', '$', '%', '&', \"'\", '(', ')', '*', '+', ',', '-', '.', '/', '0', '1', '2', '3', '4', '5', '6', '7', '8', ':', ';', '<', '=', '>', '?', '@', 'A', 'B', 'C', 'D', 'E', 'F', 'G', 'H', 'I', 'J', 'K', 'L', 'M', 'N', 'O', 'P', 'R', 'S', 'T', 'U', 'V', 'W', 'X', 'Y', '[', '\\\\', ']', '^', '_', '`', 'a', 'b', 'c', 'd', 'e', 'f', 'g', 'h', 'i', 'j', 'k', 'l', 'm', 'n', 'o', 'p', 'q', 'r', 's', 't', 'u', 'v', 'w', 'x', 'y', 'z', '{', '|', '}', '~', '上', '分', '区', '大', '海', '赛']\n",
      "{'\\n': 0, ' ': 1, '!': 2, '\"': 3, '$': 4, '%': 5, '&': 6, \"'\": 7, '(': 8, ')': 9, '*': 10, '+': 11, ',': 12, '-': 13, '.': 14, '/': 15, '0': 16, '1': 17, '2': 18, '3': 19, '4': 20, '5': 21, '6': 22, '7': 23, '8': 24, ':': 25, ';': 26, '<': 27, '=': 28, '>': 29, '?': 30, '@': 31, 'A': 32, 'B': 33, 'C': 34, 'D': 35, 'E': 36, 'F': 37, 'G': 38, 'H': 39, 'I': 40, 'J': 41, 'K': 42, 'L': 43, 'M': 44, 'N': 45, 'O': 46, 'P': 47, 'R': 48, 'S': 49, 'T': 50, 'U': 51, 'V': 52, 'W': 53, 'X': 54, 'Y': 55, '[': 56, '\\\\': 57, ']': 58, '^': 59, '_': 60, '`': 61, 'a': 62, 'b': 63, 'c': 64, 'd': 65, 'e': 66, 'f': 67, 'g': 68, 'h': 69, 'i': 70, 'j': 71, 'k': 72, 'l': 73, 'm': 74, 'n': 75, 'o': 76, 'p': 77, 'q': 78, 'r': 79, 's': 80, 't': 81, 'u': 82, 'v': 83, 'w': 84, 'x': 85, 'y': 86, 'z': 87, '{': 88, '|': 89, '}': 90, '~': 91, '上': 92, '分': 93, '区': 94, '大': 95, '海': 96, '赛': 97}\n",
      "{0: '\\n', 1: ' ', 2: '!', 3: '\"', 4: '$', 5: '%', 6: '&', 7: \"'\", 8: '(', 9: ')', 10: '*', 11: '+', 12: ',', 13: '-', 14: '.', 15: '/', 16: '0', 17: '1', 18: '2', 19: '3', 20: '4', 21: '5', 22: '6', 23: '7', 24: '8', 25: ':', 26: ';', 27: '<', 28: '=', 29: '>', 30: '?', 31: '@', 32: 'A', 33: 'B', 34: 'C', 35: 'D', 36: 'E', 37: 'F', 38: 'G', 39: 'H', 40: 'I', 41: 'J', 42: 'K', 43: 'L', 44: 'M', 45: 'N', 46: 'O', 47: 'P', 48: 'R', 49: 'S', 50: 'T', 51: 'U', 52: 'V', 53: 'W', 54: 'X', 55: 'Y', 56: '[', 57: '\\\\', 58: ']', 59: '^', 60: '_', 61: '`', 62: 'a', 63: 'b', 64: 'c', 65: 'd', 66: 'e', 67: 'f', 68: 'g', 69: 'h', 70: 'i', 71: 'j', 72: 'k', 73: 'l', 74: 'm', 75: 'n', 76: 'o', 77: 'p', 78: 'q', 79: 'r', 80: 's', 81: 't', 82: 'u', 83: 'v', 84: 'w', 85: 'x', 86: 'y', 87: 'z', 88: '{', 89: '|', 90: '}', 91: '~', 92: '上', 93: '分', 94: '区', 95: '大', 96: '海', 97: '赛'}\n"
     ]
    }
   ],
   "source": [
    "char_set: set[str] = set()\n",
    "\n",
    "for file in files:  # paths = list of file paths\n",
    "    with open(file, 'r', encoding='utf-8') as f:\n",
    "        char_set.update(f.read())\n",
    "\n",
    "sorted_chars: list[str] = sorted(char_set)\n",
    "print(len(sorted_chars))\n",
    "print(sorted_chars)\n",
    "\n",
    "encode_dict: dict[str, int] = {value: index for index, value in enumerate(sorted_chars)}\n",
    "decode_dict: dict[int, str] = {index: value for index, value in enumerate(sorted_chars)}\n",
    "\n",
    "print(encode_dict)\n",
    "print(decode_dict)\n",
    "\n",
    "DICTS_FILE = '05.dicts.json'\n",
    "\n",
    "import json\n",
    "\n",
    "with open(DICTS_FILE, 'w', encoding='utf-8') as f:\n",
    "    json.dump({'encode_dict': encode_dict, 'decode_dict': decode_dict}, f)"
   ]
  },
  {
   "cell_type": "markdown",
   "id": "bfae5de9",
   "metadata": {},
   "source": [
    "---"
   ]
  },
  {
   "cell_type": "markdown",
   "id": "1faba63b",
   "metadata": {},
   "source": [
    "# encode and decode"
   ]
  },
  {
   "cell_type": "code",
   "execution_count": 5,
   "id": "09998d72",
   "metadata": {},
   "outputs": [
    {
     "name": "stdout",
     "output_type": "stream",
     "text": [
      "[69, 66, 73, 73, 76]\n",
      "hello\n"
     ]
    }
   ],
   "source": [
    "def encode(s: str) -> list[int]:\n",
    "    return [encode_dict[c] for c in s]\n",
    "\n",
    "def decode(arr: list[int]) -> str:\n",
    "    return ''.join([decode_dict[index] for index in arr])\n",
    "\n",
    "print(encode(\"hello\"))\n",
    "print(decode([69, 66, 73, 73, 76]))"
   ]
  },
  {
   "cell_type": "markdown",
   "id": "06378bfc",
   "metadata": {},
   "source": [
    "---"
   ]
  },
  {
   "cell_type": "markdown",
   "id": "5d9d66b7",
   "metadata": {},
   "source": [
    "# Create dataset"
   ]
  },
  {
   "cell_type": "code",
   "execution_count": 6,
   "id": "68fe4ec0",
   "metadata": {},
   "outputs": [
    {
     "name": "stdout",
     "output_type": "stream",
     "text": [
      "['hello', 'ello ', 'llo w', 'lo wo', 'o wor', ' worl', 'world']\n"
     ]
    }
   ],
   "source": [
    "def create_dataset(s: str, n: int) -> list[str]:\n",
    "    arr: list[str] = []\n",
    "    for i in range(len(s) - n + 1):\n",
    "        arr.append(s[i:i+n])\n",
    "    return arr\n",
    "\n",
    "dataset = create_dataset(\"hello world\", 5)\n",
    "print(dataset)"
   ]
  },
  {
   "cell_type": "markdown",
   "id": "4ab5f198",
   "metadata": {},
   "source": [
    "---"
   ]
  },
  {
   "cell_type": "markdown",
   "id": "04b15a12",
   "metadata": {},
   "source": [
    "# Better create_dataset"
   ]
  },
  {
   "cell_type": "code",
   "execution_count": 7,
   "id": "e8cf6d14",
   "metadata": {},
   "outputs": [
    {
     "name": "stdout",
     "output_type": "stream",
     "text": [
      "[[69, 66, 73, 73, 76], [66, 73, 73, 76, 1], [73, 73, 76, 1, 84], [73, 76, 1, 84, 76], [76, 1, 84, 76, 79], [1, 84, 76, 79, 73], [84, 76, 79, 73, 65]]\n"
     ]
    }
   ],
   "source": [
    "def create_dataset(s: str, n: int) -> list[list[int]]:\n",
    "    s_encoded: list[int] = encode(s)\n",
    "    arr: list[list[int]] = []\n",
    "    for i in range(len(s_encoded) - n + 1):\n",
    "        arr.append(s_encoded[i:i+n])\n",
    "    return arr\n",
    "\n",
    "dataset = create_dataset(\"hello world\", 5)\n",
    "print(dataset)"
   ]
  },
  {
   "cell_type": "markdown",
   "id": "d2722ef5",
   "metadata": {},
   "source": [
    "---"
   ]
  },
  {
   "cell_type": "markdown",
   "id": "13ff64e1",
   "metadata": {},
   "source": [
    "# Create dataset from FOLDER"
   ]
  },
  {
   "cell_type": "code",
   "execution_count": 8,
   "id": "54d819d5",
   "metadata": {},
   "outputs": [
    {
     "name": "stdout",
     "output_type": "stream",
     "text": [
      "dataset saved to 05.dataset.txt\n"
     ]
    }
   ],
   "source": [
    "DATASET_PATH = '05.dataset.txt'\n",
    "\n",
    "if Path(DATASET_PATH).exists() and Path(DATASET_PATH).is_file():\n",
    "    Path(DATASET_PATH).unlink()\n",
    "\n",
    "with open(DATASET_PATH, 'a', encoding='utf-8') as fa:\n",
    "    for file in files:\n",
    "        with open(file, 'r', encoding='utf-8') as f:\n",
    "            content: str = f.read()\n",
    "            dataset: list[list[int]] = create_dataset(content, 30)\n",
    "            for datapoint in dataset:\n",
    "                linestr: str = \" \".join(map(str, datapoint)) + \"\\n\"\n",
    "                fa.write(linestr)\n",
    "\n",
    "print(f'dataset saved to {DATASET_PATH}')"
   ]
  }
 ],
 "metadata": {
  "kernelspec": {
   "display_name": ".venv",
   "language": "python",
   "name": "python3"
  },
  "language_info": {
   "codemirror_mode": {
    "name": "ipython",
    "version": 3
   },
   "file_extension": ".py",
   "mimetype": "text/x-python",
   "name": "python",
   "nbconvert_exporter": "python",
   "pygments_lexer": "ipython3",
   "version": "3.9.18"
  }
 },
 "nbformat": 4,
 "nbformat_minor": 5
}
