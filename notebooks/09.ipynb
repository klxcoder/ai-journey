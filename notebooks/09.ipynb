{
 "cells": [
  {
   "cell_type": "markdown",
   "id": "fc2cad27",
   "metadata": {},
   "source": [
    "# Vector Space Models"
   ]
  },
  {
   "cell_type": "markdown",
   "id": "25b0902d",
   "metadata": {},
   "source": [
    "Quizes can be found here:\n",
    "- [link](https://www.coursera.org/learn/classification-vector-spaces-in-nlp/assignment-submission/rTqMw/vector-space-models/attempt)"
   ]
  },
  {
   "cell_type": "markdown",
   "id": "91285c48",
   "metadata": {},
   "source": [
    "---"
   ]
  },
  {
   "cell_type": "markdown",
   "id": "4cb75c61",
   "metadata": {},
   "source": [
    "# Quiz 1\n",
    "Given a corpus A, encoded as $\\begin{pmatrix} 1 \\\\ 2 \\\\ 3 \\end{pmatrix}$ and corpus B encoded as $\\begin{pmatrix} 4 \\\\ 7 \\\\ 2 \\end{pmatrix}$, What is the euclidean distance between the two documents?\n",
    "- [x] 5.91608\n",
    "- [ ] 35\n",
    "- [ ] 2.43\n",
    "- [ ] None of the above"
   ]
  },
  {
   "cell_type": "code",
   "execution_count": null,
   "id": "82316be9",
   "metadata": {},
   "outputs": [
    {
     "name": "stdout",
     "output_type": "stream",
     "text": [
      "5.916079783099616\n"
     ]
    }
   ],
   "source": [
    "import numpy as np\n",
    "a = np.array([1, 2, 3])\n",
    "b = np.array([4, 7, 2])\n",
    "answer = np.linalg.norm(a-b)\n",
    "print(answer) # 5.916079783099616"
   ]
  },
  {
   "cell_type": "markdown",
   "id": "773329f4",
   "metadata": {},
   "source": [
    "---"
   ]
  },
  {
   "cell_type": "markdown",
   "id": "422e2887",
   "metadata": {},
   "source": [
    "# Quiz 2\n",
    "Given the previous problem, a user now came up with a corpus C defined as $\\begin{pmatrix} 3 \\\\ 1 \\\\ 4 \\end{pmatrix}$ and you want to recommend a document that is similar to it. Would you recommend document A or document B?\n",
    "- [x] Document A\n",
    "- [ ] Document B"
   ]
  },
  {
   "cell_type": "code",
   "execution_count": null,
   "id": "a1503d10",
   "metadata": {},
   "outputs": [
    {
     "name": "stdout",
     "output_type": "stream",
     "text": [
      "0.8910421112136306\n",
      "0.6374594222773456\n",
      "Document A\n",
      "\n"
     ]
    }
   ],
   "source": [
    "import numpy as np\n",
    "from numpy.typing import NDArray\n",
    "\n",
    "def cosine(a: NDArray[np.float64], b: NDArray[np.float64]) -> float:\n",
    "    cosine: float = np.dot(a, b) / (np.linalg.norm(a) * np.linalg.norm(b))\n",
    "    return cosine\n",
    "\n",
    "a = np.array([1, 2, 3])\n",
    "b = np.array([4, 7, 2])\n",
    "c = np.array([3, 1, 4])\n",
    "\n",
    "cosine_ac = cosine(a, c)\n",
    "cosine_bc = cosine(b, c)\n",
    "\n",
    "print(cosine_ac) # 0.8910421112136306\n",
    "print(cosine_bc) # 0.6374594222773456\n",
    "\n",
    "if cosine_ac > cosine_bc:\n",
    "    answer = \"Document A\"\n",
    "else:\n",
    "    answer = \"Document B\"\n",
    "\n",
    "print(answer) # Document B\n",
    "\n",
    "print()"
   ]
  },
  {
   "cell_type": "markdown",
   "id": "dd2e24f0",
   "metadata": {},
   "source": [
    "---"
   ]
  },
  {
   "cell_type": "markdown",
   "id": "5d537297",
   "metadata": {},
   "source": [
    "# Quiz 5\n",
    "The cosine similarity score of corpus A = ​$\\begin{pmatrix} 1 \\\\ 0 \\\\ -1 \\end{pmatrix}$ and corpus B = $\\begin{pmatrix} 2 \\\\ 8 \\\\ 1 \\end{pmatrix}$ is equal to ?\n",
    "- [x] 0.08512565307587486\n",
    "- [ ] 0\n",
    "- [ ] 1.251903\n",
    "- [ ] -0.3418283"
   ]
  },
  {
   "cell_type": "code",
   "execution_count": null,
   "id": "5deede88",
   "metadata": {},
   "outputs": [
    {
     "name": "stdout",
     "output_type": "stream",
     "text": [
      "0.08512565307587484\n"
     ]
    }
   ],
   "source": [
    "a = np.array([1, 0, -1])\n",
    "b = np.array([2, 8, 1])\n",
    "answer = cosine(a, b)\n",
    "print(answer) # 0.08512565307587484"
   ]
  },
  {
   "cell_type": "markdown",
   "id": "cf4e21b6",
   "metadata": {},
   "source": [
    "---"
   ]
  },
  {
   "cell_type": "markdown",
   "id": "e23cc9de",
   "metadata": {},
   "source": [
    "# Quiz 6\n",
    "We will define the following vectors, USA = $\\begin{pmatrix} 5 \\\\ 6 \\end{pmatrix}$ , Washington = $\\begin{pmatrix} 10 \\\\ 5 \\end{pmatrix}$, Turkey = $\\begin{pmatrix} 3 \\\\ 1 \\end{pmatrix}$, Ankara = $\\begin{pmatrix} 9 \\\\ 1 \\end{pmatrix}$, Russia = $\\begin{pmatrix} 5 \\\\ 5 \\end{pmatrix}$, and Japan = $\\begin{pmatrix} 4 \\\\ 3 \\end{pmatrix}$. Using only the following vectors, Ankara is the capital of what country? Please consider the cosine similarity score in your calculations. \n",
    "- [x] Japan\n",
    "- [ ] Russia\n",
    "- [ ] Morocco\n",
    "- [ ] Turkey"
   ]
  },
  {
   "cell_type": "code",
   "execution_count": null,
   "id": "200932dd",
   "metadata": {},
   "outputs": [
    {
     "name": "stdout",
     "output_type": "stream",
     "text": [
      "3\n",
      "1\n"
     ]
    }
   ],
   "source": [
    "usa = np.array([5, 6])\n",
    "washington = np.array([10, 5])\n",
    "turkey = np.array([3, 1])\n",
    "ankara = np.array([9, 1])\n",
    "russia = np.array([5, 5])\n",
    "japan = np.array([4, 3])\n",
    "\n",
    "# indexes =   0     1       2       3\n",
    "countries = [usa, turkey, russia, japan]\n",
    "capitals = [washington, ankara]\n",
    "\n",
    "# Given: Washington is the capital of USA\n",
    "# Question: Ankara is the capital of what country?\n",
    "def approach_1():\n",
    "    similarity_scores = [cosine(usa - washington, country - ankara) for country in countries]\n",
    "    index = np.argmax(similarity_scores)\n",
    "    print(index) # 3 -> japan\n",
    "\n",
    "# Question: Ankara is the capital of what country?\n",
    "def approach_2():\n",
    "    similarity_scores = [cosine(country, ankara) for country in countries]\n",
    "    index = np.argmax(similarity_scores)\n",
    "    print(index) # 1 -> turkey\n",
    "\n",
    "approach_1()\n",
    "approach_2()"
   ]
  }
 ],
 "metadata": {
  "kernelspec": {
   "display_name": ".venv",
   "language": "python",
   "name": "python3"
  },
  "language_info": {
   "codemirror_mode": {
    "name": "ipython",
    "version": 3
   },
   "file_extension": ".py",
   "mimetype": "text/x-python",
   "name": "python",
   "nbconvert_exporter": "python",
   "pygments_lexer": "ipython3",
   "version": "3.9.18"
  }
 },
 "nbformat": 4,
 "nbformat_minor": 5
}
