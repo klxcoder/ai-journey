{
 "cells": [
  {
   "cell_type": "markdown",
   "id": "9f593287",
   "metadata": {},
   "source": [
    "# Introduction\n",
    "- Every big achievement starts from small beginnings.\n",
    "- I will write a simple python program that update weights and biases using gradient descent\n",
    "- The flow from the input to output is following:\n",
    "    + x → w1*x + b1 → y1\n",
    "    + y1 → w2*y1 + b2 → y\n",
    "- Training data:\n",
    "    + x_train = [1, 2, 3, 4, 5, 6, 7, 8, 9]\n",
    "    + y_train = [10, 20, 30, 40, 50, 60, 70, 80, 90]\n",
    "- Testing data:\n",
    "    + x_test = [10, 11]\n",
    "    + y_test = [100, 110]\n",
    "- The flow of the data and the datasets (training data and testing data) above are so simple.\n",
    "- The purpose of this notebook is to let you get familiar with how gradient descent work."
   ]
  },
  {
   "cell_type": "markdown",
   "id": "944cd587",
   "metadata": {},
   "source": [
    "---"
   ]
  },
  {
   "cell_type": "markdown",
   "id": "2f8275d3",
   "metadata": {},
   "source": [
    "Define training and testing dataset"
   ]
  },
  {
   "cell_type": "code",
   "execution_count": 1,
   "id": "394990d0",
   "metadata": {},
   "outputs": [],
   "source": [
    "x_train: list[float] = [1, 2, 3, 4, 5, 6, 7, 8, 9]\n",
    "y_train: list[float] = [10, 20, 30, 40, 50, 60, 70, 80, 90]\n",
    "x_test: list[float] = [10, 11]\n",
    "y_test: list[float] = [100, 110]"
   ]
  },
  {
   "cell_type": "markdown",
   "id": "b61cebe7",
   "metadata": {},
   "source": [
    "---"
   ]
  },
  {
   "cell_type": "markdown",
   "id": "f212bb16",
   "metadata": {},
   "source": [
    "define the function `predict`"
   ]
  },
  {
   "cell_type": "code",
   "execution_count": 2,
   "id": "94b2f93b",
   "metadata": {},
   "outputs": [],
   "source": [
    "def predict(x: float, w1: float, b1: float, w2: float, b2: float) -> float:\n",
    "    y1: float = w1*x + b1\n",
    "    y: float = w2*y1 + b2\n",
    "    return y"
   ]
  },
  {
   "cell_type": "markdown",
   "id": "c3b3ecbd",
   "metadata": {},
   "source": [
    "---"
   ]
  },
  {
   "cell_type": "markdown",
   "id": "21b5d564",
   "metadata": {},
   "source": [
    "Before training, the model just predict wrongly"
   ]
  },
  {
   "cell_type": "code",
   "execution_count": 3,
   "id": "1ccad625",
   "metadata": {},
   "outputs": [
    {
     "name": "stdout",
     "output_type": "stream",
     "text": [
      "x = 6\n",
      "pred = 65\n",
      "expect = 60\n"
     ]
    }
   ],
   "source": [
    "def test():\n",
    "    w1, b1, w2, b2 = 2, 3, 4, 5\n",
    "    x: float = 6\n",
    "    y_expect: float = 60\n",
    "    y_pred: float = predict(x, w1, b1, w2, b2)\n",
    "    print(f\"x = {x}\")\n",
    "    print(f\"pred = {y_pred}\")\n",
    "    print(f\"expect = {y_expect}\")\n",
    "test()"
   ]
  },
  {
   "cell_type": "markdown",
   "id": "6db72e66",
   "metadata": {},
   "source": [
    "---"
   ]
  },
  {
   "cell_type": "markdown",
   "id": "b23b8352",
   "metadata": {},
   "source": [
    "define the function `get_loss`"
   ]
  },
  {
   "cell_type": "code",
   "execution_count": 4,
   "id": "e6d82e51",
   "metadata": {},
   "outputs": [],
   "source": [
    "def get_loss(y_pred: float, y_expect: float) -> float:\n",
    "    return (y_pred - y_expect) ** 2"
   ]
  },
  {
   "cell_type": "markdown",
   "id": "a58f489b",
   "metadata": {},
   "source": [
    "---"
   ]
  },
  {
   "cell_type": "markdown",
   "id": "68854fc7",
   "metadata": {},
   "source": [
    "call `get_loss` for `x = 6`"
   ]
  },
  {
   "cell_type": "code",
   "execution_count": 5,
   "id": "3869ec62",
   "metadata": {},
   "outputs": [
    {
     "name": "stdout",
     "output_type": "stream",
     "text": [
      "x = 6\n",
      "pred = 65\n",
      "expect = 60\n",
      "loss = 25\n"
     ]
    }
   ],
   "source": [
    "def test():\n",
    "    w1, b1, w2, b2 = 2, 3, 4, 5\n",
    "    x: float = 6\n",
    "    y_expect: float = 60\n",
    "    y_pred: float = predict(x, w1, b1, w2, b2)\n",
    "    print(f\"x = {x}\")\n",
    "    print(f\"pred = {y_pred}\")\n",
    "    print(f\"expect = {y_expect}\")\n",
    "    loss: float = get_loss(y_pred, y_expect)\n",
    "    print(f\"loss = {loss}\")\n",
    "test()"
   ]
  },
  {
   "cell_type": "markdown",
   "id": "f3224902",
   "metadata": {},
   "source": [
    "---"
   ]
  },
  {
   "cell_type": "markdown",
   "id": "80f0c325",
   "metadata": {},
   "source": [
    "- calculate the derivatives of `loss` w.r.t:\n",
    "  + `w2`\n",
    "  + `b2`\n",
    "  + `w1`\n",
    "  + `b1`\n",
    "- Remind:\n",
    "  + `y1 = w1*x + b1`\n",
    "  + `y_pred = w2*y1 + b2`\n",
    "  + `loss = (y_pred - y_expect) ** 2`\n",
    "- So:\n",
    "  + `d_loss_y_pred = 2 * (y_pred - y_expect)`\n",
    "  + `d_y_pred_w2 = y1`\n",
    "  + `d_y_pred_b2 = 1`\n",
    "  + `d_loss_w2 = d_loss_y_pred * d_y_pred_w2`\n",
    "  + `d_loss_b2 = d_loss_y_pred * d_y_pred_b2`\n",
    "  + `d_y_pred_y1 = w2`\n",
    "  + `d_y1_w1 = x`\n",
    "  + `d_y1_b1 = 1`\n",
    "  + `d_loss_w1 = d_loss_y_pred * d_y_pred_y1 * d_y1_w1`\n",
    "  + `d_loss_b1 = d_loss_y_pred * d_y_pred_y1 * d_y1_b1`"
   ]
  },
  {
   "cell_type": "code",
   "execution_count": null,
   "id": "66d8ad6c",
   "metadata": {},
   "outputs": [],
   "source": [
    "def get_derivatives(\n",
    "    x: float,\n",
    "    w1: float,\n",
    "    b1: float,\n",
    "    w2: float,\n",
    "    b2: float,\n",
    "    y_expect: float,\n",
    ") -> dict[str, float]:\n",
    "    #\n",
    "    y1 = w1*x + b1\n",
    "    y_pred = w2*y1 + b2\n",
    "    #\n",
    "    d_loss_y_pred = 2 * (y_pred - y_expect)\n",
    "    d_y_pred_w2 = y1\n",
    "    d_y_pred_b2 = 1\n",
    "    d_loss_w2 = d_loss_y_pred * d_y_pred_w2\n",
    "    d_loss_b2 = d_loss_y_pred * d_y_pred_b2\n",
    "    d_y_pred_y1 = w2\n",
    "    d_y1_w1 = x\n",
    "    d_y1_b1 = 1\n",
    "    d_loss_w1 = d_loss_y_pred * d_y_pred_y1 * d_y1_w1\n",
    "    d_loss_b1 = d_loss_y_pred * d_y_pred_y1 * d_y1_b1\n",
    "    return {\n",
    "        \"d_loss_w2\": d_loss_w2,\n",
    "        \"d_loss_b2\": d_loss_b2,\n",
    "        \"d_loss_w1\": d_loss_w1,\n",
    "        \"d_loss_b1\": d_loss_b1,\n",
    "    }"
   ]
  },
  {
   "cell_type": "markdown",
   "id": "26d6aaf9",
   "metadata": {},
   "source": [
    "---"
   ]
  },
  {
   "cell_type": "markdown",
   "id": "10fcf402",
   "metadata": {},
   "source": [
    "define the function `get_loss_from_x`"
   ]
  },
  {
   "cell_type": "code",
   "execution_count": 7,
   "id": "2ebc74b7",
   "metadata": {},
   "outputs": [],
   "source": [
    "def get_loss_from_x(\n",
    "    x: float,\n",
    "    w1: float,\n",
    "    b1: float,\n",
    "    w2: float,\n",
    "    b2: float,\n",
    "    y_expect: float,\n",
    ") -> float:\n",
    "    y_pred: float = predict(x, w1, b1, w2, b2)\n",
    "    loss: float = get_loss(y_pred, y_expect)\n",
    "    return loss"
   ]
  },
  {
   "cell_type": "markdown",
   "id": "9ab81c71",
   "metadata": {},
   "source": [
    "---"
   ]
  },
  {
   "cell_type": "markdown",
   "id": "d949632f",
   "metadata": {},
   "source": [
    "define the function `get_derivatives_slow`"
   ]
  },
  {
   "cell_type": "code",
   "execution_count": 8,
   "id": "0fad5d69",
   "metadata": {},
   "outputs": [],
   "source": [
    "def get_derivatives_slow(\n",
    "    x: float,\n",
    "    w1: float,\n",
    "    b1: float,\n",
    "    w2: float,\n",
    "    b2: float,\n",
    "    y_expect: float,\n",
    ") -> dict[str, float]:\n",
    "    small: float = 0.001\n",
    "    loss = get_loss_from_x(x, w1, b1, w2, b2, y_expect)\n",
    "    d_loss_w2 = (get_loss_from_x(x, w1, b1, w2+small, b2, y_expect) - loss)/small\n",
    "    d_loss_b2 = (get_loss_from_x(x, w1, b1, w2, b2+small, y_expect) - loss)/small\n",
    "    d_loss_w1 = (get_loss_from_x(x, w1+small, b1, w2, b2, y_expect) - loss)/small\n",
    "    d_loss_b1 = (get_loss_from_x(x, w1, b1+small, w2, b2, y_expect) - loss)/small\n",
    "    return {\n",
    "    \"d_loss_w2\": d_loss_w2,\n",
    "    \"d_loss_b2\": d_loss_b2,\n",
    "    \"d_loss_w1\": d_loss_w1,\n",
    "    \"d_loss_b1\": d_loss_b1,\n",
    "}"
   ]
  },
  {
   "cell_type": "markdown",
   "id": "4e0ccd8a",
   "metadata": {},
   "source": [
    "---"
   ]
  },
  {
   "cell_type": "markdown",
   "id": "5feb09d1",
   "metadata": {},
   "source": [
    "call `get_derivatives` and `get_derivatives_slow` for `x = 6`"
   ]
  },
  {
   "cell_type": "code",
   "execution_count": 9,
   "id": "eaf40091",
   "metadata": {},
   "outputs": [
    {
     "name": "stdout",
     "output_type": "stream",
     "text": [
      "{'d_loss_w2': 150, 'd_loss_b2': 10, 'd_loss_w1': 240, 'd_loss_b1': 40}\n",
      "{'d_loss_w2': 150.22500000014816, 'd_loss_b2': 10.001000000048776, 'd_loss_w1': 240.5760000000079, 'd_loss_b1': 40.01599999990546}\n"
     ]
    }
   ],
   "source": [
    "def test():\n",
    "    w1, b1, w2, b2 = 2, 3, 4, 5\n",
    "    x = 6\n",
    "    y_expect = 60\n",
    "    derivatives: dict[str, float] = get_derivatives(x, w1, b1, w2, b2, y_expect)\n",
    "    print(derivatives)\n",
    "    derivatives_slow: dict[str, float] = get_derivatives_slow(x, w1, b1, w2, b2, y_expect)\n",
    "    print(derivatives_slow)\n",
    "test()"
   ]
  },
  {
   "cell_type": "markdown",
   "id": "a8e8073b",
   "metadata": {},
   "source": [
    "---"
   ]
  },
  {
   "cell_type": "markdown",
   "id": "da3164b6",
   "metadata": {},
   "source": [
    "- train `w1`, `b1`, `w2`, `b2` for only 1 data point:\n",
    "  + x = 6\n",
    "  + y_expect = 60"
   ]
  },
  {
   "cell_type": "code",
   "execution_count": 10,
   "id": "b574aa2e",
   "metadata": {},
   "outputs": [
    {
     "name": "stdout",
     "output_type": "stream",
     "text": [
      "{'w1': 1.8529672104272163, 'b1': 2.9754945350712023, 'w2': 3.9029844289090088, 'b2': 4.994078143854921}\n"
     ]
    },
    {
     "data": {
      "image/png": "[encoded data removed]",
      "text/plain": [
       "<Figure size 640x480 with 1 Axes>"
      ]
     },
     "metadata": {},
     "output_type": "display_data"
    }
   ],
   "source": [
    "import matplotlib.pyplot as plt\n",
    "def train() -> tuple[dict[str, float], list[float]]:\n",
    "    w1, b1, w2, b2 = 2, 3, 4, 5\n",
    "    x = 6\n",
    "    y_expect = 60\n",
    "    learning_rate = 0.001\n",
    "    losses: list[float] = []\n",
    "    for _ in range(100):\n",
    "        loss = get_loss_from_x(x, w1, b1, w2, b2, y_expect)\n",
    "        losses.append(loss)\n",
    "        derivatives: dict[str, float] = get_derivatives(x, w1, b1, w2, b2, y_expect)\n",
    "        w1 -= learning_rate * derivatives['d_loss_w1']\n",
    "        b1 -= learning_rate * derivatives['d_loss_b1']\n",
    "        w2 -= learning_rate * derivatives['d_loss_w2']\n",
    "        b2 -= learning_rate * derivatives['d_loss_b2']\n",
    "    return ({\n",
    "        \"w1\": w1,\n",
    "        \"b1\": b1,\n",
    "        \"w2\": w2,\n",
    "        \"b2\": b2,\n",
    "    }, losses)\n",
    "\n",
    "def test(losses: list[float]):\n",
    "    # Add title and labels\n",
    "    plt.title('Losses for x = 6')\n",
    "    plt.xlabel('t')\n",
    "    plt.ylabel('loss')\n",
    "\n",
    "    # Create the plot\n",
    "    plt.plot(losses)\n",
    "\n",
    "wb, losses = train()\n",
    "print(wb)\n",
    "\n",
    "test(losses)"
   ]
  },
  {
   "cell_type": "markdown",
   "id": "6bba84ad",
   "metadata": {},
   "source": [
    "---"
   ]
  },
  {
   "cell_type": "markdown",
   "id": "cd08ac4c",
   "metadata": {},
   "source": [
    "predict with `x = 6` and `x = 1`"
   ]
  },
  {
   "cell_type": "code",
   "execution_count": 11,
   "id": "f48871d3",
   "metadata": {},
   "outputs": [
    {
     "name": "stdout",
     "output_type": "stream",
     "text": [
      "{'x': 6, 'y_expect': 60, 'y_pred': 60.0, 'close': True}\n",
      "{'x': 1, 'y_expect': 10, 'y_pred': 23.839489152118063, 'close': False}\n"
     ]
    }
   ],
   "source": [
    "import numpy as np\n",
    "def test(x: float, y_expect: float):\n",
    "    w1: float = wb[\"w1\"]\n",
    "    b1: float = wb[\"b1\"]\n",
    "    w2: float = wb[\"w2\"]\n",
    "    b2: float = wb[\"b2\"]\n",
    "    y_pred: float = predict(x, w1, b1, w2, b2)\n",
    "    dict = {\n",
    "        \"x\": x,\n",
    "        \"y_expect\": y_expect,\n",
    "        \"y_pred\": y_pred,\n",
    "        \"close\": np.isclose(y_expect, y_pred),\n",
    "    }\n",
    "    print(dict)\n",
    "test(6, 60)\n",
    "test(1, 10)"
   ]
  },
  {
   "cell_type": "markdown",
   "id": "acf9bd5e",
   "metadata": {},
   "source": [
    "---"
   ]
  },
  {
   "cell_type": "markdown",
   "id": "58e544b3",
   "metadata": {},
   "source": [
    "plot the `expect` points and `predict` points"
   ]
  },
  {
   "cell_type": "code",
   "execution_count": 12,
   "id": "dca0fe3c",
   "metadata": {},
   "outputs": [
    {
     "data": {
      "image/png": "[encoded data removed]",
      "text/plain": [
       "<Figure size 640x480 with 1 Axes>"
      ]
     },
     "metadata": {},
     "output_type": "display_data"
    }
   ],
   "source": [
    "import matplotlib.pyplot as plt\n",
    "\n",
    "def plot_expect_and_predict():\n",
    "    xs: list[float] = x_train + x_test\n",
    "    ys: list[float] = y_train + y_test\n",
    "\n",
    "    # Add title and labels\n",
    "    plt.title('expect and predict')\n",
    "    plt.xlabel('x')\n",
    "    plt.ylabel('y')\n",
    "\n",
    "    # expect points\n",
    "    plt.plot(xs, ys)\n",
    "    plt.scatter(xs, ys, label='expect', s=100)\n",
    "\n",
    "    # predict points\n",
    "    \n",
    "    w1: float = wb[\"w1\"]\n",
    "    b1: float = wb[\"b1\"]\n",
    "    w2: float = wb[\"w2\"]\n",
    "    b2: float = wb[\"b2\"]\n",
    "\n",
    "    y_pred: list[float] = []\n",
    "\n",
    "    for x in xs:\n",
    "        y = predict(x, w1, b1, w2, b2)\n",
    "        y_pred.append(y)\n",
    "    \n",
    "    plt.plot(xs, y_pred)\n",
    "    plt.scatter(xs, y_pred, label='predict')\n",
    "\n",
    "    plt.axvline(x=6, color='r', linestyle='--', label='x = 6')\n",
    "    plt.axhline(y=60, color='g', linestyle='--', label='y = 60')\n",
    "\n",
    "    plt.legend()\n",
    "\n",
    "plot_expect_and_predict()"
   ]
  },
  {
   "cell_type": "markdown",
   "id": "e668f8dd",
   "metadata": {},
   "source": [
    "---"
   ]
  },
  {
   "cell_type": "markdown",
   "id": "79661b27",
   "metadata": {},
   "source": [
    "- We trained only using `x = 6` and `y = 60`.\n",
    "- But we want to train using entire data points.\n",
    "- So, we just need to calculate the `average of the loss` and the `average of the derivative`"
   ]
  },
  {
   "cell_type": "code",
   "execution_count": 13,
   "id": "8c4fd953",
   "metadata": {},
   "outputs": [],
   "source": [
    "def get_loss_from_batch(\n",
    "    xs: list[float],\n",
    "    w1: float,\n",
    "    b1: float,\n",
    "    w2: float,\n",
    "    b2: float,\n",
    "    ys: list[float],\n",
    ") -> float:\n",
    "    loss = 0\n",
    "    for i in range(len(xs)):\n",
    "        loss += get_loss_from_x(xs[i], w1, b1, w2, b2, ys[i])\n",
    "    return loss / len(xs)"
   ]
  },
  {
   "cell_type": "code",
   "execution_count": 14,
   "id": "0e264dae",
   "metadata": {},
   "outputs": [],
   "source": [
    "def get_derivatives_batch(\n",
    "    xs: list[float],\n",
    "    w1: float,\n",
    "    b1: float,\n",
    "    w2: float,\n",
    "    b2: float,\n",
    "    ys: list[float],\n",
    ") -> dict[str, float]:\n",
    "    d_loss_w1_sum = 0\n",
    "    d_loss_b1_sum = 0\n",
    "    d_loss_w2_sum = 0\n",
    "    d_loss_b2_sum = 0\n",
    "    for i in range(len(xs)):\n",
    "        derivatives: dict[str, float] = get_derivatives(xs[i], w1, b1, w2, b2, ys[i])\n",
    "        d_loss_w1_sum += derivatives['d_loss_w1']\n",
    "        d_loss_b1_sum += derivatives['d_loss_b1']\n",
    "        d_loss_w2_sum += derivatives['d_loss_w2']\n",
    "        d_loss_b2_sum += derivatives['d_loss_b2']\n",
    "    \n",
    "    return {\n",
    "        \"d_loss_w2\": d_loss_w2_sum / len(xs),\n",
    "        \"d_loss_b2\": d_loss_b2_sum / len(xs),\n",
    "        \"d_loss_w1\": d_loss_w1_sum / len(xs),\n",
    "        \"d_loss_b1\": d_loss_b1_sum / len(xs),\n",
    "    }"
   ]
  },
  {
   "cell_type": "markdown",
   "id": "1c0aa62b",
   "metadata": {},
   "source": [
    "---"
   ]
  },
  {
   "cell_type": "markdown",
   "id": "82fb9104",
   "metadata": {},
   "source": [
    "train the model with the entire batch (not just 1 data point)"
   ]
  },
  {
   "cell_type": "code",
   "execution_count": 15,
   "id": "84b82b18",
   "metadata": {},
   "outputs": [
    {
     "name": "stdout",
     "output_type": "stream",
     "text": [
      "{'w1': 2.855692450509407, 'b1': -1.0739112515949412, 'w2': 3.498637352062141, 'b2': 3.8141182031522782}\n"
     ]
    },
    {
     "data": {
      "image/png": "[encoded data removed]",
      "text/plain": [
       "<Figure size 640x480 with 1 Axes>"
      ]
     },
     "metadata": {},
     "output_type": "display_data"
    }
   ],
   "source": [
    "import matplotlib.pyplot as plt\n",
    "def train() -> tuple[dict[str, float], list[float]]:\n",
    "    w1, b1, w2, b2 = 2, 3, 4, 5\n",
    "    learning_rate = 0.001\n",
    "    losses: list[float] = []\n",
    "    for _ in range(1000):\n",
    "        loss = get_loss_from_batch(x_train, w1, b1, w2, b2, y_train)\n",
    "        losses.append(loss)\n",
    "        derivatives: dict[str, float] = get_derivatives_batch(x_train, w1, b1, w2, b2, y_train)\n",
    "        w1 -= learning_rate * derivatives['d_loss_w1']\n",
    "        b1 -= learning_rate * derivatives['d_loss_b1']\n",
    "        w2 -= learning_rate * derivatives['d_loss_w2']\n",
    "        b2 -= learning_rate * derivatives['d_loss_b2']\n",
    "    return ({\n",
    "        \"w1\": w1,\n",
    "        \"b1\": b1,\n",
    "        \"w2\": w2,\n",
    "        \"b2\": b2,\n",
    "    }, losses)\n",
    "\n",
    "def test(losses: list[float]):\n",
    "    # Add title and labels\n",
    "    plt.title('Losses')\n",
    "    plt.xlabel('t')\n",
    "    plt.ylabel('loss')\n",
    "\n",
    "    # Create the plot\n",
    "    plt.plot(losses)\n",
    "\n",
    "wb, losses = train()\n",
    "print(wb)\n",
    "\n",
    "test(losses)"
   ]
  },
  {
   "cell_type": "markdown",
   "id": "a7a35dfa",
   "metadata": {},
   "source": [
    "---"
   ]
  },
  {
   "cell_type": "markdown",
   "id": "7d9c69f6",
   "metadata": {},
   "source": [
    "plot the expect and predict"
   ]
  },
  {
   "cell_type": "code",
   "execution_count": 16,
   "id": "32b982a6",
   "metadata": {},
   "outputs": [
    {
     "data": {
      "image/png": "[encoded data removed]",
      "text/plain": [
       "<Figure size 640x480 with 1 Axes>"
      ]
     },
     "metadata": {},
     "output_type": "display_data"
    }
   ],
   "source": [
    "plot_expect_and_predict()"
   ]
  }
 ],
 "metadata": {
  "kernelspec": {
   "display_name": ".venv",
   "language": "python",
   "name": "python3"
  },
  "language_info": {
   "codemirror_mode": {
    "name": "ipython",
    "version": 3
   },
   "file_extension": ".py",
   "mimetype": "text/x-python",
   "name": "python",
   "nbconvert_exporter": "python",
   "pygments_lexer": "ipython3",
   "version": "3.9.18"
  }
 },
 "nbformat": 4,
 "nbformat_minor": 5
}
