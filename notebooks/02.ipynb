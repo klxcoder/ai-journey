{
 "cells": [
  {
   "cell_type": "markdown",
   "id": "440af691",
   "metadata": {},
   "source": [
    "# Previous notebook\n",
    "In notebook 01, we solved the following problem:\n",
    "```\n",
    "x → y1 = w1*x + b1 → y = w2*y1 + b2\n",
    "```"
   ]
  },
  {
   "cell_type": "markdown",
   "id": "8742ab8d",
   "metadata": {},
   "source": [
    "# This notebook\n",
    "In this notebook 02, we will solve the following problem:\n",
    "```\n",
    "x ---→ y1 = w1*x + b1 ---→|\n",
    "                          |---→ y = y1 + y2\n",
    "x ---→ y2 = w2*x + b2 ---→|\n",
    "```\n",
    "The problem above can be represent as neural network with:\n",
    "  + 1 Input layer (2 neurons)\n",
    "  + 1 Output layer (1 neuron)\n",
    "  + No hidden layers\n",
    "  + No activation functions"
   ]
  },
  {
   "cell_type": "markdown",
   "id": "d3be7530",
   "metadata": {},
   "source": [
    "---"
   ]
  },
  {
   "cell_type": "markdown",
   "id": "323d8f2f",
   "metadata": {},
   "source": [
    "Define training and testing dataset"
   ]
  },
  {
   "cell_type": "code",
   "execution_count": 1,
   "id": "ce0d660a",
   "metadata": {},
   "outputs": [],
   "source": [
    "x_train: list[float] = [1, 2, 3, 4, 5, 6, 7, 8, 9]\n",
    "y_train: list[float] = [10, 20, 30, 40, 50, 60, 70, 80, 90]\n",
    "x_test: list[float] = [10, 11]\n",
    "y_test: list[float] = [100, 110]"
   ]
  },
  {
   "cell_type": "markdown",
   "id": "75a4d3f1",
   "metadata": {},
   "source": [
    "---"
   ]
  },
  {
   "cell_type": "markdown",
   "id": "b6b8037c",
   "metadata": {},
   "source": [
    "define the function `predict`"
   ]
  },
  {
   "cell_type": "code",
   "execution_count": 2,
   "id": "b8e54dc5",
   "metadata": {},
   "outputs": [],
   "source": [
    "def predict(x: float, w1: float, b1: float, w2: float, b2: float) -> float:\n",
    "    y1: float = w1*x + b1\n",
    "    y2: float = w2*x + b2\n",
    "    y = y1 + y2\n",
    "    return y"
   ]
  },
  {
   "cell_type": "markdown",
   "id": "9c4cdb27",
   "metadata": {},
   "source": [
    "---"
   ]
  },
  {
   "cell_type": "markdown",
   "id": "62b89eb4",
   "metadata": {},
   "source": [
    "Before training, the model just predict wrongly"
   ]
  },
  {
   "cell_type": "code",
   "execution_count": 3,
   "id": "ff44d0f7",
   "metadata": {},
   "outputs": [
    {
     "name": "stdout",
     "output_type": "stream",
     "text": [
      "x = 6\n",
      "pred = 44\n",
      "expect = 60\n"
     ]
    }
   ],
   "source": [
    "def test():\n",
    "    w1, b1, w2, b2 = 2, 3, 4, 5\n",
    "    x: float = 6\n",
    "    y_expect: float = 60\n",
    "    y_pred: float = predict(x, w1, b1, w2, b2)\n",
    "    print(f\"x = {x}\")\n",
    "    print(f\"pred = {y_pred}\")\n",
    "    print(f\"expect = {y_expect}\")\n",
    "test()"
   ]
  },
  {
   "cell_type": "markdown",
   "id": "61b54f54",
   "metadata": {},
   "source": [
    "---"
   ]
  },
  {
   "cell_type": "markdown",
   "id": "b77a9630",
   "metadata": {},
   "source": [
    "define the function `get_loss`"
   ]
  },
  {
   "cell_type": "code",
   "execution_count": 4,
   "id": "0551b257",
   "metadata": {},
   "outputs": [],
   "source": [
    "def get_loss(y_pred: float, y_expect: float) -> float:\n",
    "    return (y_pred - y_expect) ** 2"
   ]
  },
  {
   "cell_type": "markdown",
   "id": "160712fd",
   "metadata": {},
   "source": [
    "---"
   ]
  },
  {
   "cell_type": "markdown",
   "id": "94a61c94",
   "metadata": {},
   "source": [
    "call `get_loss` for `x = 6`"
   ]
  },
  {
   "cell_type": "code",
   "execution_count": 5,
   "id": "7a64433b",
   "metadata": {},
   "outputs": [
    {
     "name": "stdout",
     "output_type": "stream",
     "text": [
      "x = 6\n",
      "pred = 44\n",
      "expect = 60\n",
      "loss = 256\n"
     ]
    }
   ],
   "source": [
    "def test():\n",
    "    w1, b1, w2, b2 = 2, 3, 4, 5\n",
    "    x: float = 6\n",
    "    y_expect: float = 60\n",
    "    y_pred: float = predict(x, w1, b1, w2, b2)\n",
    "    print(f\"x = {x}\")\n",
    "    print(f\"pred = {y_pred}\")\n",
    "    print(f\"expect = {y_expect}\")\n",
    "    loss: float = get_loss(y_pred, y_expect)\n",
    "    print(f\"loss = {loss}\")\n",
    "test()"
   ]
  },
  {
   "cell_type": "markdown",
   "id": "0ddf2e86",
   "metadata": {},
   "source": [
    "---"
   ]
  },
  {
   "cell_type": "markdown",
   "id": "7fdf37d1",
   "metadata": {},
   "source": [
    "- calculate the derivatives of `loss` w.r.t:\n",
    "  + `w1`\n",
    "  + `b1`\n",
    "  + `w2`\n",
    "  + `b2`\n",
    "- Remind:\n",
    "  + `y1 = w1*x + b1`\n",
    "  + `y2 = w2*x + b2`\n",
    "  + `y_pred = y1 + y2`\n",
    "  + `loss = (y_pred - y_expect) ** 2`\n",
    "- So:\n",
    "  + `d_loss_y_pred = 2 * (y_pred - y_expect)`\n",
    "  + `d_y_pred_y1 = 1`\n",
    "  + `d_y_pred_y2 = 1`\n",
    "  + `d_y1_w1 = x`\n",
    "  + `d_y1_b1 = 1`\n",
    "  + `d_y2_w2 = x`\n",
    "  + `d_y2_b2 = 1`\n",
    "  + `d_loss_w1 = d_loss_y_pred * d_y_pred_y1 * d_y1_w1`\n",
    "  + `d_loss_b1 = d_loss_y_pred * d_y_pred_y1 * d_y1_b1`\n",
    "  + `d_loss_w2 = d_loss_y_pred * d_y_pred_y2 * d_y2_w2`\n",
    "  + `d_loss_b2 = d_loss_y_pred * d_y_pred_y2 * d_y2_b2`"
   ]
  },
  {
   "cell_type": "code",
   "execution_count": 6,
   "id": "275e1632",
   "metadata": {},
   "outputs": [],
   "source": [
    "def get_derivatives(\n",
    "    x: float,\n",
    "    w1: float,\n",
    "    b1: float,\n",
    "    w2: float,\n",
    "    b2: float,\n",
    "    y_expect: float,\n",
    ") -> dict[str, float]:\n",
    "    #\n",
    "    y1: float = w1*x + b1\n",
    "    y2: float = w2*x + b2\n",
    "    y_pred = y1 + y2\n",
    "    #\n",
    "    d_loss_y_pred = 2 * (y_pred - y_expect)\n",
    "    d_y_pred_y1 = 1\n",
    "    d_y_pred_y2 = 1\n",
    "    d_y1_w1 = x\n",
    "    d_y1_b1 = 1\n",
    "    d_y2_w2 = x\n",
    "    d_y2_b2 = 1\n",
    "    d_loss_w1 = d_loss_y_pred * d_y_pred_y1 * d_y1_w1\n",
    "    d_loss_b1 = d_loss_y_pred * d_y_pred_y1 * d_y1_b1\n",
    "    d_loss_w2 = d_loss_y_pred * d_y_pred_y2 * d_y2_w2\n",
    "    d_loss_b2 = d_loss_y_pred * d_y_pred_y2 * d_y2_b2\n",
    "    return {\n",
    "        \"d_loss_w2\": d_loss_w2,\n",
    "        \"d_loss_b2\": d_loss_b2,\n",
    "        \"d_loss_w1\": d_loss_w1,\n",
    "        \"d_loss_b1\": d_loss_b1,\n",
    "    }"
   ]
  },
  {
   "cell_type": "markdown",
   "id": "0a12a51b",
   "metadata": {},
   "source": [
    "---"
   ]
  },
  {
   "cell_type": "markdown",
   "id": "7ddba68f",
   "metadata": {},
   "source": [
    "define the function `get_loss_from_x`"
   ]
  },
  {
   "cell_type": "code",
   "execution_count": 7,
   "id": "8dd453d2",
   "metadata": {},
   "outputs": [],
   "source": [
    "def get_loss_from_x(\n",
    "    x: float,\n",
    "    w1: float,\n",
    "    b1: float,\n",
    "    w2: float,\n",
    "    b2: float,\n",
    "    y_expect: float,\n",
    ") -> float:\n",
    "    y_pred: float = predict(x, w1, b1, w2, b2)\n",
    "    loss: float = get_loss(y_pred, y_expect)\n",
    "    return loss"
   ]
  },
  {
   "cell_type": "markdown",
   "id": "be48846a",
   "metadata": {},
   "source": [
    "---"
   ]
  },
  {
   "cell_type": "markdown",
   "id": "38e27364",
   "metadata": {},
   "source": [
    "define the function `get_derivatives_slow`"
   ]
  },
  {
   "cell_type": "code",
   "execution_count": 8,
   "id": "ec2f020e",
   "metadata": {},
   "outputs": [],
   "source": [
    "def get_derivatives_slow(\n",
    "    x: float,\n",
    "    w1: float,\n",
    "    b1: float,\n",
    "    w2: float,\n",
    "    b2: float,\n",
    "    y_expect: float,\n",
    ") -> dict[str, float]:\n",
    "    small: float = 0.001\n",
    "    loss = get_loss_from_x(x, w1, b1, w2, b2, y_expect)\n",
    "    d_loss_w2 = (get_loss_from_x(x, w1, b1, w2+small, b2, y_expect) - loss)/small\n",
    "    d_loss_b2 = (get_loss_from_x(x, w1, b1, w2, b2+small, y_expect) - loss)/small\n",
    "    d_loss_w1 = (get_loss_from_x(x, w1+small, b1, w2, b2, y_expect) - loss)/small\n",
    "    d_loss_b1 = (get_loss_from_x(x, w1, b1+small, w2, b2, y_expect) - loss)/small\n",
    "    return {\n",
    "    \"d_loss_w2\": d_loss_w2,\n",
    "    \"d_loss_b2\": d_loss_b2,\n",
    "    \"d_loss_w1\": d_loss_w1,\n",
    "    \"d_loss_b1\": d_loss_b1,\n",
    "}"
   ]
  },
  {
   "cell_type": "markdown",
   "id": "cc5ac110",
   "metadata": {},
   "source": [
    "---"
   ]
  },
  {
   "cell_type": "markdown",
   "id": "c15ef1c7",
   "metadata": {},
   "source": [
    "call `get_derivatives` and `get_derivatives_slow` for `x = 6`"
   ]
  },
  {
   "cell_type": "code",
   "execution_count": 9,
   "id": "c230e2b5",
   "metadata": {},
   "outputs": [
    {
     "name": "stdout",
     "output_type": "stream",
     "text": [
      "{'d_loss_w2': -192, 'd_loss_b2': -32, 'd_loss_w1': -192, 'd_loss_b1': -32}\n",
      "{'d_loss_w2': -191.9640000000129, 'd_loss_b2': -31.99900000015532, 'd_loss_w1': -191.9640000000129, 'd_loss_b1': -31.998999999927946}\n"
     ]
    }
   ],
   "source": [
    "def test():\n",
    "    w1, b1, w2, b2 = 2, 3, 4, 5\n",
    "    x = 6\n",
    "    y_expect = 60\n",
    "    derivatives: dict[str, float] = get_derivatives(x, w1, b1, w2, b2, y_expect)\n",
    "    print(derivatives)\n",
    "    derivatives_slow: dict[str, float] = get_derivatives_slow(x, w1, b1, w2, b2, y_expect)\n",
    "    print(derivatives_slow)\n",
    "test()"
   ]
  },
  {
   "cell_type": "markdown",
   "id": "ab682114",
   "metadata": {},
   "source": [
    "---"
   ]
  },
  {
   "cell_type": "markdown",
   "id": "0010b150",
   "metadata": {},
   "source": [
    "- train `w1`, `b1`, `w2`, `b2` for only 1 data point:\n",
    "  + x = 6\n",
    "  + y_expect = 60"
   ]
  },
  {
   "cell_type": "code",
   "execution_count": 10,
   "id": "9513d7cf",
   "metadata": {},
   "outputs": [
    {
     "name": "stdout",
     "output_type": "stream",
     "text": [
      "{'w1': 3.297297297297298, 'b1': 3.216216216216216, 'w2': 5.2972972972972965, 'b2': 5.216216216216217}\n"
     ]
    },
    {
     "data": {
      "image/png": "[encoded data removed]",
      "text/plain": [
       "<Figure size 640x480 with 1 Axes>"
      ]
     },
     "metadata": {},
     "output_type": "display_data"
    }
   ],
   "source": [
    "import matplotlib.pyplot as plt\n",
    "def train() -> tuple[dict[str, float], list[float]]:\n",
    "    w1, b1, w2, b2 = 2, 3, 4, 5\n",
    "    x = 6\n",
    "    y_expect = 60\n",
    "    learning_rate = 0.01\n",
    "    losses: list[float] = []\n",
    "    for _ in range(100):\n",
    "        loss = get_loss_from_x(x, w1, b1, w2, b2, y_expect)\n",
    "        losses.append(loss)\n",
    "        derivatives: dict[str, float] = get_derivatives(x, w1, b1, w2, b2, y_expect)\n",
    "        w1 -= learning_rate * derivatives['d_loss_w1']\n",
    "        b1 -= learning_rate * derivatives['d_loss_b1']\n",
    "        w2 -= learning_rate * derivatives['d_loss_w2']\n",
    "        b2 -= learning_rate * derivatives['d_loss_b2']\n",
    "    return ({\n",
    "        \"w1\": w1,\n",
    "        \"b1\": b1,\n",
    "        \"w2\": w2,\n",
    "        \"b2\": b2,\n",
    "    }, losses)\n",
    "\n",
    "def test(losses: list[float]):\n",
    "    # Add title and labels\n",
    "    plt.title('Losses for x = 6')\n",
    "    plt.xlabel('t')\n",
    "    plt.ylabel('loss')\n",
    "\n",
    "    # Create the plot\n",
    "    plt.plot(losses)\n",
    "\n",
    "wb, losses = train()\n",
    "print(wb)\n",
    "\n",
    "test(losses)"
   ]
  },
  {
   "cell_type": "markdown",
   "id": "7db8a3cd",
   "metadata": {},
   "source": [
    "---"
   ]
  },
  {
   "cell_type": "markdown",
   "id": "94a680eb",
   "metadata": {},
   "source": [
    "predict with `x = 6` and `x = 1`"
   ]
  },
  {
   "cell_type": "code",
   "execution_count": 11,
   "id": "8a6656a0",
   "metadata": {},
   "outputs": [
    {
     "name": "stdout",
     "output_type": "stream",
     "text": [
      "{'x': 6, 'y_expect': 60, 'y_pred': 59.99999999999999, 'close': True}\n",
      "{'x': 1, 'y_expect': 10, 'y_pred': 17.027027027027025, 'close': False}\n"
     ]
    }
   ],
   "source": [
    "import numpy as np\n",
    "def test(x: float, y_expect: float):\n",
    "    w1: float = wb[\"w1\"]\n",
    "    b1: float = wb[\"b1\"]\n",
    "    w2: float = wb[\"w2\"]\n",
    "    b2: float = wb[\"b2\"]\n",
    "    y_pred: float = predict(x, w1, b1, w2, b2)\n",
    "    dict = {\n",
    "        \"x\": x,\n",
    "        \"y_expect\": y_expect,\n",
    "        \"y_pred\": y_pred,\n",
    "        \"close\": np.isclose(y_expect, y_pred),\n",
    "    }\n",
    "    print(dict)\n",
    "test(6, 60)\n",
    "test(1, 10)"
   ]
  },
  {
   "cell_type": "markdown",
   "id": "8c932dc6",
   "metadata": {},
   "source": [
    "---"
   ]
  },
  {
   "cell_type": "markdown",
   "id": "f08919de",
   "metadata": {},
   "source": [
    "plot the `expect` points and `predict` points"
   ]
  },
  {
   "cell_type": "code",
   "execution_count": 12,
   "id": "10e5500b",
   "metadata": {},
   "outputs": [
    {
     "data": {
      "image/png": "[encoded data removed]",
      "text/plain": [
       "<Figure size 640x480 with 1 Axes>"
      ]
     },
     "metadata": {},
     "output_type": "display_data"
    }
   ],
   "source": [
    "import matplotlib.pyplot as plt\n",
    "\n",
    "def plot_expect_and_predict():\n",
    "    xs: list[float] = x_train + x_test\n",
    "    ys: list[float] = y_train + y_test\n",
    "\n",
    "    # Add title and labels\n",
    "    plt.title('expect and predict')\n",
    "    plt.xlabel('x')\n",
    "    plt.ylabel('y')\n",
    "\n",
    "    # expect points\n",
    "    plt.plot(xs, ys)\n",
    "    plt.scatter(xs, ys, label='expect', s=100)\n",
    "\n",
    "    # predict points\n",
    "    \n",
    "    w1: float = wb[\"w1\"]\n",
    "    b1: float = wb[\"b1\"]\n",
    "    w2: float = wb[\"w2\"]\n",
    "    b2: float = wb[\"b2\"]\n",
    "\n",
    "    y_pred: list[float] = []\n",
    "\n",
    "    for x in xs:\n",
    "        y = predict(x, w1, b1, w2, b2)\n",
    "        y_pred.append(y)\n",
    "    \n",
    "    plt.plot(xs, y_pred)\n",
    "    plt.scatter(xs, y_pred, label='predict')\n",
    "\n",
    "    plt.axvline(x=6, color='r', linestyle='--', label='x = 6')\n",
    "    plt.axhline(y=60, color='g', linestyle='--', label='y = 60')\n",
    "\n",
    "    plt.legend()\n",
    "\n",
    "plot_expect_and_predict()"
   ]
  },
  {
   "cell_type": "markdown",
   "id": "acf55b29",
   "metadata": {},
   "source": [
    "---"
   ]
  },
  {
   "cell_type": "markdown",
   "id": "a2ebc93b",
   "metadata": {},
   "source": [
    "- We trained only using `x = 6` and `y = 60`.\n",
    "- But we want to train using entire data points.\n",
    "- So, we just need to calculate the `average of the loss` and the `average of the derivative`"
   ]
  },
  {
   "cell_type": "code",
   "execution_count": 13,
   "id": "7bccf3b4",
   "metadata": {},
   "outputs": [],
   "source": [
    "def get_loss_from_batch(\n",
    "    xs: list[float],\n",
    "    w1: float,\n",
    "    b1: float,\n",
    "    w2: float,\n",
    "    b2: float,\n",
    "    ys: list[float],\n",
    ") -> float:\n",
    "    loss = 0\n",
    "    for i in range(len(xs)):\n",
    "        loss += get_loss_from_x(xs[i], w1, b1, w2, b2, ys[i])\n",
    "    return loss / len(xs)"
   ]
  },
  {
   "cell_type": "code",
   "execution_count": 14,
   "id": "73bc76cc",
   "metadata": {},
   "outputs": [],
   "source": [
    "def get_derivatives_batch(\n",
    "    xs: list[float],\n",
    "    w1: float,\n",
    "    b1: float,\n",
    "    w2: float,\n",
    "    b2: float,\n",
    "    ys: list[float],\n",
    ") -> dict[str, float]:\n",
    "    d_loss_w1_sum = 0\n",
    "    d_loss_b1_sum = 0\n",
    "    d_loss_w2_sum = 0\n",
    "    d_loss_b2_sum = 0\n",
    "    for i in range(len(xs)):\n",
    "        derivatives: dict[str, float] = get_derivatives(xs[i], w1, b1, w2, b2, ys[i])\n",
    "        d_loss_w1_sum += derivatives['d_loss_w1']\n",
    "        d_loss_b1_sum += derivatives['d_loss_b1']\n",
    "        d_loss_w2_sum += derivatives['d_loss_w2']\n",
    "        d_loss_b2_sum += derivatives['d_loss_b2']\n",
    "    \n",
    "    return {\n",
    "        \"d_loss_w2\": d_loss_w2_sum / len(xs),\n",
    "        \"d_loss_b2\": d_loss_b2_sum / len(xs),\n",
    "        \"d_loss_w1\": d_loss_w1_sum / len(xs),\n",
    "        \"d_loss_b1\": d_loss_b1_sum / len(xs),\n",
    "    }"
   ]
  },
  {
   "cell_type": "markdown",
   "id": "241857c3",
   "metadata": {},
   "source": [
    "---"
   ]
  },
  {
   "cell_type": "markdown",
   "id": "1eebbb5e",
   "metadata": {},
   "source": [
    "train the model with the entire batch (not just 1 data point)"
   ]
  },
  {
   "cell_type": "code",
   "execution_count": 15,
   "id": "a678c6fe",
   "metadata": {},
   "outputs": [
    {
     "name": "stdout",
     "output_type": "stream",
     "text": [
      "{'w1': 3.999824933746156, 'b1': -0.9988984378281914, 'w2': 5.99982493374616, 'b2': 1.00110156217181}\n"
     ]
    },
    {
     "data": {
      "image/png": "[encoded data removed]",
      "text/plain": [
       "<Figure size 640x480 with 1 Axes>"
      ]
     },
     "metadata": {},
     "output_type": "display_data"
    }
   ],
   "source": [
    "import matplotlib.pyplot as plt\n",
    "def train() -> tuple[dict[str, float], list[float]]:\n",
    "    w1, b1, w2, b2 = 2, 3, 4, 5\n",
    "    learning_rate = 0.01\n",
    "    losses: list[float] = []\n",
    "    for _ in range(1000):\n",
    "        loss = get_loss_from_batch(x_train, w1, b1, w2, b2, y_train)\n",
    "        losses.append(loss)\n",
    "        derivatives: dict[str, float] = get_derivatives_batch(x_train, w1, b1, w2, b2, y_train)\n",
    "        w1 -= learning_rate * derivatives['d_loss_w1']\n",
    "        b1 -= learning_rate * derivatives['d_loss_b1']\n",
    "        w2 -= learning_rate * derivatives['d_loss_w2']\n",
    "        b2 -= learning_rate * derivatives['d_loss_b2']\n",
    "    return ({\n",
    "        \"w1\": w1,\n",
    "        \"b1\": b1,\n",
    "        \"w2\": w2,\n",
    "        \"b2\": b2,\n",
    "    }, losses)\n",
    "\n",
    "def test(losses: list[float]):\n",
    "    # Add title and labels\n",
    "    plt.title('Losses')\n",
    "    plt.xlabel('t')\n",
    "    plt.ylabel('loss')\n",
    "\n",
    "    # Create the plot\n",
    "    plt.plot(losses)\n",
    "\n",
    "wb, losses = train()\n",
    "print(wb)\n",
    "\n",
    "test(losses)"
   ]
  },
  {
   "cell_type": "markdown",
   "id": "3cccf3bd",
   "metadata": {},
   "source": [
    "---"
   ]
  },
  {
   "cell_type": "markdown",
   "id": "ab43fc4d",
   "metadata": {},
   "source": [
    "plot the expect and predict"
   ]
  },
  {
   "cell_type": "code",
   "execution_count": 16,
   "id": "b400c3da",
   "metadata": {},
   "outputs": [
    {
     "data": {
      "image/png": "[encoded data removed]",
      "text/plain": [
       "<Figure size 640x480 with 1 Axes>"
      ]
     },
     "metadata": {},
     "output_type": "display_data"
    }
   ],
   "source": [
    "plot_expect_and_predict()"
   ]
  }
 ],
 "metadata": {
  "kernelspec": {
   "display_name": ".venv",
   "language": "python",
   "name": "python3"
  },
  "language_info": {
   "codemirror_mode": {
    "name": "ipython",
    "version": 3
   },
   "file_extension": ".py",
   "mimetype": "text/x-python",
   "name": "python",
   "nbconvert_exporter": "python",
   "pygments_lexer": "ipython3",
   "version": "3.9.18"
  }
 },
 "nbformat": 4,
 "nbformat_minor": 5
}
