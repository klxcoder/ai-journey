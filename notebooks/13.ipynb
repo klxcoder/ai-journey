{
 "cells": [
  {
   "cell_type": "markdown",
   "id": "7938a977",
   "metadata": {},
   "source": [
    "# Simple Hopfield Network (2 patterns)"
   ]
  },
  {
   "cell_type": "code",
   "execution_count": 1,
   "id": "829b264c",
   "metadata": {},
   "outputs": [
    {
     "data": {
      "image/png": "[encoded data removed]",
      "text/plain": [
       "<Figure size 640x480 with 3 Axes>"
      ]
     },
     "metadata": {},
     "output_type": "display_data"
    },
    {
     "data": {
      "image/png": "[encoded data removed]",
      "text/plain": [
       "<Figure size 640x480 with 3 Axes>"
      ]
     },
     "metadata": {},
     "output_type": "display_data"
    }
   ],
   "source": [
    "import numpy as np\n",
    "import matplotlib.pyplot as plt\n",
    "from numpy.typing import NDArray\n",
    "\n",
    "class HopfieldNetwork:\n",
    "    def __init__(self, num_neurons: int):\n",
    "        self.num_neurons = num_neurons\n",
    "        self.weights = np.zeros((num_neurons, num_neurons), dtype=int)\n",
    "\n",
    "    def train(self, patterns: list[NDArray[np.int64]]):\n",
    "        for p in patterns:\n",
    "            p = p * 2 - 1  # Convert {0,1} → {-1,1}\n",
    "            self.weights += np.outer(p, p)\n",
    "        np.fill_diagonal(self.weights, 0)\n",
    "\n",
    "    def recall(self, pattern: NDArray[np.int64], steps: int=1000):\n",
    "        s = pattern * 2 - 1\n",
    "        for _ in range(steps):\n",
    "            i = np.random.randint(0, self.num_neurons)\n",
    "            net_input = np.dot(self.weights[i], s)\n",
    "            s[i] = 1 if net_input >= 0 else -1\n",
    "        return (s + 1) // 2  # Convert back to {0,1}\n",
    "    \n",
    "def plot_patterns(patterns: list[NDArray[np.int64]], title: str):\n",
    "    _, axes = plt.subplots(1, len(patterns))\n",
    "    for ax, pattern in zip(axes, patterns):\n",
    "        ax.imshow(pattern.reshape(8, 8), cmap='gray')\n",
    "        ax.axis('off')\n",
    "    plt.suptitle(title)\n",
    "    plt.show()\n",
    "\n",
    "# Define 2 binary 8x8 patterns (e.g., digits \"8\" and \"X\")\n",
    "\n",
    "pattern1: NDArray[np.int64] = np.array([\n",
    "    [0,1,1,1,1,1,1,0],\n",
    "    [1,0,0,0,0,0,0,1],\n",
    "    [1,0,1,1,1,1,0,1],\n",
    "    [1,0,1,1,1,1,0,1],\n",
    "    [1,0,1,1,1,1,0,1],\n",
    "    [1,0,1,1,1,1,0,1],\n",
    "    [1,0,0,0,0,0,0,1],\n",
    "    [0,1,1,1,1,1,1,0]\n",
    "])\n",
    "\n",
    "pattern2 = np.array([\n",
    "    [1,0,0,0,0,0,0,1],\n",
    "    [0,1,0,0,0,0,1,0],\n",
    "    [0,0,1,0,0,1,0,0],\n",
    "    [0,0,0,1,1,0,0,0],\n",
    "    [0,0,0,1,1,0,0,0],\n",
    "    [0,0,1,0,0,1,0,0],\n",
    "    [0,1,0,0,0,0,1,0],\n",
    "    [1,0,0,0,0,0,0,1],\n",
    "])\n",
    "\n",
    "# Flatten and train\n",
    "flat1 = pattern1.flatten()\n",
    "flat2 = pattern2.flatten()\n",
    "\n",
    "# Train Hopfield network\n",
    "network = HopfieldNetwork(num_neurons=64)\n",
    "network.train([flat1, flat2])\n",
    "\n",
    "def test(flat_pattern: NDArray[np.int64]):\n",
    "    # Corrupt pattern1 slightly\n",
    "    test_input = flat_pattern.copy()\n",
    "    test_input[5] = 1 - test_input[5]\n",
    "    test_input[20] = 1 - test_input[20]\n",
    "\n",
    "    # Recall from the exact pattern\n",
    "    recovered: NDArray[np.int64] = network.recall(test_input)\n",
    "\n",
    "    plot_patterns([flat_pattern, test_input, recovered], title=\"Original | Noisy | Recalled\")\n",
    "\n",
    "\n",
    "test(flat1)\n",
    "test(flat2)"
   ]
  },
  {
   "cell_type": "code",
   "execution_count": 2,
   "id": "4913ef2c",
   "metadata": {},
   "outputs": [
    {
     "name": "stdout",
     "output_type": "stream",
     "text": [
      "[[ 0 -2 -2 ... -2 -2  2]\n",
      " [-2  0  2 ...  2  2 -2]\n",
      " [-2  2  0 ...  2  2 -2]\n",
      " ...\n",
      " [-2  2  2 ...  0  2 -2]\n",
      " [-2  2  2 ...  2  0 -2]\n",
      " [ 2 -2 -2 ... -2 -2  0]]\n"
     ]
    }
   ],
   "source": [
    "print(network.weights)"
   ]
  },
  {
   "cell_type": "markdown",
   "id": "f76eb8a4",
   "metadata": {},
   "source": [
    "---"
   ]
  },
  {
   "cell_type": "markdown",
   "id": "c4f30cd0",
   "metadata": {},
   "source": [
    "# Check if the weights is symmetric"
   ]
  },
  {
   "cell_type": "code",
   "execution_count": 3,
   "id": "1e4c4d8e",
   "metadata": {},
   "outputs": [
    {
     "name": "stdout",
     "output_type": "stream",
     "text": [
      "True\n",
      "False\n",
      "True\n"
     ]
    }
   ],
   "source": [
    "from numpy.typing import NDArray\n",
    "\n",
    "def is_symmetric(matrix: NDArray[np.int64]):\n",
    "    \"\"\"\n",
    "    Check if a square matrix is symmetric.\n",
    "    \n",
    "    Args:\n",
    "    matrix (numpy.ndarray): A 2D NumPy array representing the matrix.\n",
    "    \n",
    "    Returns:\n",
    "    bool: True if the matrix is symmetric, False otherwise.\n",
    "    \"\"\"\n",
    "    # Check if the matrix is square\n",
    "    assert len(matrix.shape) == 2 and matrix.shape[0] == matrix.shape[1], \"The input matrix must be square.\"\n",
    "    \n",
    "    # Compare the matrix with its transpose\n",
    "    return np.allclose(matrix, matrix.T)\n",
    "\n",
    "# Example usage\n",
    "matrix = np.array([\n",
    "    [1, 2, 3],\n",
    "    [2, 4, 5],\n",
    "    [3, 5, 6],\n",
    "])\n",
    "print(is_symmetric(matrix))  # True\n",
    "\n",
    "matrix = np.array([\n",
    "    [1, 2, 3],\n",
    "    [4, 5, 6],\n",
    "    [7, 8, 9],\n",
    "])\n",
    "print(is_symmetric(matrix))  # False\n",
    "\n",
    "print(is_symmetric(network.weights)) # True"
   ]
  },
  {
   "cell_type": "markdown",
   "id": "9aa589dd",
   "metadata": {},
   "source": [
    "---"
   ]
  },
  {
   "cell_type": "markdown",
   "id": "e2641e1e",
   "metadata": {},
   "source": [
    "# References\n",
    "- [ChatGPT Conversation](https://chatgpt.com/share/681ffb7c-3ccc-8010-9b41-d0ee06ea8e12)"
   ]
  }
 ],
 "metadata": {
  "kernelspec": {
   "display_name": ".venv",
   "language": "python",
   "name": "python3"
  },
  "language_info": {
   "codemirror_mode": {
    "name": "ipython",
    "version": 3
   },
   "file_extension": ".py",
   "mimetype": "text/x-python",
   "name": "python",
   "nbconvert_exporter": "python",
   "pygments_lexer": "ipython3",
   "version": "3.9.18"
  }
 },
 "nbformat": 4,
 "nbformat_minor": 5
}
