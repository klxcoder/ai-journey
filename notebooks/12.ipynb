{
 "cells": [
  {
   "cell_type": "markdown",
   "id": "7938a977",
   "metadata": {},
   "source": [
    "# Simple Hopfield Network example"
   ]
  },
  {
   "cell_type": "code",
   "execution_count": null,
   "id": "829b264c",
   "metadata": {},
   "outputs": [
    {
     "data": {
      "image/png": "[encoded data removed]",
      "text/plain": [
       "<Figure size 600x300 with 2 Axes>"
      ]
     },
     "metadata": {},
     "output_type": "display_data"
    }
   ],
   "source": [
    "import numpy as np\n",
    "import matplotlib.pyplot as plt\n",
    "from numpy.typing import NDArray\n",
    "\n",
    "class HopfieldNetwork:\n",
    "    def __init__(self, num_neurons: int):\n",
    "        self.num_neurons = num_neurons\n",
    "        self.weights = np.zeros((num_neurons, num_neurons), dtype=int)\n",
    "\n",
    "    def train(self, patterns: list[NDArray[np.int64]]):\n",
    "        for p in patterns:\n",
    "            self.weights += np.outer(p, p)\n",
    "        np.fill_diagonal(self.weights, 0)\n",
    "\n",
    "    def recall(self, pattern: NDArray[np.int64], steps: int=1000):\n",
    "        s = pattern.copy()\n",
    "        for _ in range(steps):\n",
    "            i = np.random.randint(0, self.num_neurons)\n",
    "            net_input = np.dot(self.weights[i], s)\n",
    "            s[i] = 1 if net_input >= 0 else -1\n",
    "        return s\n",
    "\n",
    "# Define the 8x8 binary image (0/1) for digit \"8\"\n",
    "binary_image: NDArray[np.int64] = np.array([\n",
    "    [0,1,1,1,1,1,1,0],\n",
    "    [1,0,0,0,0,0,0,1],\n",
    "    [1,0,1,1,1,1,0,1],\n",
    "    [1,0,1,1,1,1,0,1],\n",
    "    [1,0,1,1,1,1,0,1],\n",
    "    [1,0,1,1,1,1,0,1],\n",
    "    [1,0,0,0,0,0,0,1],\n",
    "    [0,1,1,1,1,1,1,0]\n",
    "])\n",
    "\n",
    "# Convert 0/1 to -1/+1 and flatten\n",
    "pattern: NDArray[np.int64] = np.where(binary_image.flatten() == 1, 1, -1)\n",
    "\n",
    "# Train Hopfield network\n",
    "network = HopfieldNetwork(num_neurons=64)\n",
    "network.train([pattern])\n",
    "\n",
    "# Recall from the exact pattern\n",
    "recovered: NDArray[np.int64] = network.recall(pattern)\n",
    "\n",
    "# Reshape for visualization\n",
    "recovered_image: NDArray[np.int64] = np.where(recovered.reshape(8, 8) == 1, 1, 0)\n",
    "\n",
    "# Plot original and recovered images\n",
    "fig, axes = plt.subplots(1, 2, figsize=(6, 3))\n",
    "axes[0].imshow(binary_image, cmap='gray_r')\n",
    "axes[0].set_title('Original')\n",
    "axes[0].axis('off')\n",
    "\n",
    "axes[1].imshow(recovered_image, cmap='gray_r')\n",
    "axes[1].set_title('Recovered')\n",
    "axes[1].axis('off')\n",
    "\n",
    "plt.tight_layout()\n",
    "plt.show()\n"
   ]
  },
  {
   "cell_type": "code",
   "execution_count": 2,
   "id": "4913ef2c",
   "metadata": {},
   "outputs": [
    {
     "name": "stdout",
     "output_type": "stream",
     "text": [
      "[[ 0 -1 -1 ... -1 -1  1]\n",
      " [-1  0  1 ...  1  1 -1]\n",
      " [-1  1  0 ...  1  1 -1]\n",
      " ...\n",
      " [-1  1  1 ...  0  1 -1]\n",
      " [-1  1  1 ...  1  0 -1]\n",
      " [ 1 -1 -1 ... -1 -1  0]]\n"
     ]
    }
   ],
   "source": [
    "print(network.weights)"
   ]
  },
  {
   "cell_type": "markdown",
   "id": "f76eb8a4",
   "metadata": {},
   "source": [
    "---"
   ]
  },
  {
   "cell_type": "markdown",
   "id": "c4f30cd0",
   "metadata": {},
   "source": [
    "# Check if the weights is symmetric"
   ]
  },
  {
   "cell_type": "code",
   "execution_count": null,
   "id": "1e4c4d8e",
   "metadata": {},
   "outputs": [
    {
     "name": "stdout",
     "output_type": "stream",
     "text": [
      "True\n",
      "False\n",
      "True\n"
     ]
    }
   ],
   "source": [
    "from numpy.typing import NDArray\n",
    "\n",
    "def is_symmetric(matrix: NDArray[np.int64]):\n",
    "    \"\"\"\n",
    "    Check if a square matrix is symmetric.\n",
    "    \n",
    "    Args:\n",
    "    matrix (numpy.ndarray): A 2D NumPy array representing the matrix.\n",
    "    \n",
    "    Returns:\n",
    "    bool: True if the matrix is symmetric, False otherwise.\n",
    "    \"\"\"\n",
    "    # Check if the matrix is square\n",
    "    assert len(matrix.shape) == 2 and matrix.shape[0] == matrix.shape[1], \"The input matrix must be square.\"\n",
    "    \n",
    "    # Compare the matrix with its transpose\n",
    "    return np.allclose(matrix, matrix.T)\n",
    "\n",
    "# Example usage\n",
    "matrix = np.array([\n",
    "    [1, 2, 3],\n",
    "    [2, 4, 5],\n",
    "    [3, 5, 6],\n",
    "])\n",
    "print(is_symmetric(matrix))  # True\n",
    "\n",
    "matrix = np.array([\n",
    "    [1, 2, 3],\n",
    "    [4, 5, 6],\n",
    "    [7, 8, 9],\n",
    "])\n",
    "print(is_symmetric(matrix))  # False\n",
    "\n",
    "print(is_symmetric(network.weights)) # True"
   ]
  },
  {
   "cell_type": "markdown",
   "id": "9aa589dd",
   "metadata": {},
   "source": [
    "---"
   ]
  },
  {
   "cell_type": "markdown",
   "id": "e2641e1e",
   "metadata": {},
   "source": [
    "# References\n",
    "- [ChatGPT Conversation](https://chatgpt.com/share/681ffb7c-3ccc-8010-9b41-d0ee06ea8e12)"
   ]
  }
 ],
 "metadata": {
  "kernelspec": {
   "display_name": ".venv",
   "language": "python",
   "name": "python3"
  },
  "language_info": {
   "codemirror_mode": {
    "name": "ipython",
    "version": 3
   },
   "file_extension": ".py",
   "mimetype": "text/x-python",
   "name": "python",
   "nbconvert_exporter": "python",
   "pygments_lexer": "ipython3",
   "version": "3.9.18"
  }
 },
 "nbformat": 4,
 "nbformat_minor": 5
}
