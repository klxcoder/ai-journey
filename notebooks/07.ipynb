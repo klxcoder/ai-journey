{
 "cells": [
  {
   "cell_type": "markdown",
   "id": "e4a92342",
   "metadata": {},
   "source": [
    "# Use ClassificationUNN to make LLM"
   ]
  },
  {
   "cell_type": "markdown",
   "id": "aafae03c",
   "metadata": {},
   "source": [
    "---"
   ]
  },
  {
   "cell_type": "markdown",
   "id": "f8ce95cc",
   "metadata": {},
   "source": [
    "# base classes: UNN and ClassificationUNN"
   ]
  },
  {
   "cell_type": "code",
   "execution_count": 1,
   "id": "e4c8a018",
   "metadata": {},
   "outputs": [],
   "source": [
    "import numpy as np\n",
    "from numpy.typing import NDArray\n",
    "\n",
    "af64 = NDArray[np.float64]\n",
    "\n",
    "class UNN:\n",
    "    def __init__(\n",
    "        self,\n",
    "        input_size: int,\n",
    "        hidden_size: int,\n",
    "        output_size: int,\n",
    "        seed: int = 42,\n",
    "    ):\n",
    "        np.random.seed(seed)\n",
    "        self.w1: af64 = np.random.randn(input_size, hidden_size) * 0.01\n",
    "        self.b1: af64 = np.zeros((1, hidden_size))\n",
    "        self.w2: af64 = np.random.randn(hidden_size, output_size) * 0.01\n",
    "        self.b2: af64 = np.zeros((1, output_size))\n",
    "\n",
    "    def relu(self, x: af64) -> af64:\n",
    "        return np.maximum(0, x)\n",
    "\n",
    "    def relu_derivative(self, x: af64) -> af64:\n",
    "        return (x > 0).astype(float)\n",
    "\n",
    "    def forward_hidden(self, X: af64):\n",
    "        self.Z1 = X @ self.w1 + self.b1\n",
    "        self.A1 = self.relu(self.Z1)\n",
    "\n",
    "    def backward_hidden(\n",
    "        self,\n",
    "        dA1: af64,\n",
    "        X: af64,\n",
    "    ) -> tuple[af64, af64, af64]:\n",
    "        dZ1: af64 = dA1 * self.relu_derivative(self.Z1)\n",
    "        dW1: af64 = X.T @ dZ1\n",
    "        db1: af64 = np.sum(dZ1, axis=0, keepdims=True)\n",
    "        return dZ1 @ self.w1.T, dW1, db1\n",
    "\n",
    "    def update(\n",
    "        self,\n",
    "        grads: tuple[af64, af64, af64, af64],\n",
    "        lr: float,\n",
    "    ):\n",
    "        dW1, db1, dW2, db2 = grads\n",
    "        self.w1 -= lr * dW1\n",
    "        self.b1 -= lr * db1\n",
    "        self.w2 -= lr * dW2\n",
    "        self.b2 -= lr * db2\n",
    "\n",
    "class ClassificationUNN(UNN):\n",
    "    def softmax(self, x: af64) -> af64:\n",
    "        exp = np.exp(x - np.max(x, axis=1, keepdims=True))\n",
    "        return exp / np.sum(exp, axis=1, keepdims=True)\n",
    "\n",
    "    def forward(self, X: af64) -> af64:\n",
    "        self.forward_hidden(X)\n",
    "        self.Z2 = self.A1 @ self.w2 + self.b2\n",
    "        self.A2 = self.softmax(self.Z2)\n",
    "        return self.A2\n",
    "\n",
    "    def compute_loss(\n",
    "        self,\n",
    "        y_pred: af64,\n",
    "        y_true: af64,\n",
    "    ) -> np.float64:\n",
    "        # y_true is one-hot encoded\n",
    "        eps = 1e-15\n",
    "        y_pred = np.clip(y_pred, eps, 1 - eps)\n",
    "        return -np.mean(np.sum(y_true * np.log(y_pred), axis=1))\n",
    "\n",
    "    def backward(\n",
    "        self,\n",
    "        X: af64,\n",
    "        y_true: af64,\n",
    "        y_pred: af64,\n",
    "    ) -> tuple[af64, af64, af64, af64]:\n",
    "        dZ2 = (y_pred - y_true) / y_true.shape[0]\n",
    "        dW2 = self.A1.T @ dZ2\n",
    "        db2: af64 = np.sum(dZ2, axis=0, keepdims=True)\n",
    "\n",
    "        dA1 = dZ2 @ self.w2.T\n",
    "        _, dW1, db1 = self.backward_hidden(dA1, X) # _ is dX\n",
    "\n",
    "        return dW1, db1, dW2, db2"
   ]
  },
  {
   "cell_type": "markdown",
   "id": "cd44958f",
   "metadata": {},
   "source": [
    "---"
   ]
  },
  {
   "cell_type": "markdown",
   "id": "b8c61dfa",
   "metadata": {},
   "source": [
    "# Read dataset"
   ]
  },
  {
   "cell_type": "code",
   "execution_count": 2,
   "id": "97174d2d",
   "metadata": {},
   "outputs": [
    {
     "name": "stdout",
     "output_type": "stream",
     "text": [
      "{'\\n': 0, ' ': 1, '!': 2, '\"': 3, '$': 4, '%': 5, '&': 6, \"'\": 7, '(': 8, ')': 9, '*': 10, '+': 11, ',': 12, '-': 13, '.': 14, '/': 15, '0': 16, '1': 17, '2': 18, '3': 19, '4': 20, '5': 21, '6': 22, '7': 23, '8': 24, ':': 25, ';': 26, '<': 27, '=': 28, '>': 29, '?': 30, '@': 31, 'A': 32, 'B': 33, 'C': 34, 'D': 35, 'E': 36, 'F': 37, 'G': 38, 'H': 39, 'I': 40, 'J': 41, 'K': 42, 'L': 43, 'M': 44, 'N': 45, 'O': 46, 'P': 47, 'R': 48, 'S': 49, 'T': 50, 'U': 51, 'V': 52, 'W': 53, 'X': 54, 'Y': 55, '[': 56, '\\\\': 57, ']': 58, '^': 59, '_': 60, '`': 61, 'a': 62, 'b': 63, 'c': 64, 'd': 65, 'e': 66, 'f': 67, 'g': 68, 'h': 69, 'i': 70, 'j': 71, 'k': 72, 'l': 73, 'm': 74, 'n': 75, 'o': 76, 'p': 77, 'q': 78, 'r': 79, 's': 80, 't': 81, 'u': 82, 'v': 83, 'w': 84, 'x': 85, 'y': 86, 'z': 87, '{': 88, '|': 89, '}': 90, '~': 91, '上': 92, '分': 93, '区': 94, '大': 95, '海': 96, '赛': 97}\n",
      "{'0': '\\n', '1': ' ', '2': '!', '3': '\"', '4': '$', '5': '%', '6': '&', '7': \"'\", '8': '(', '9': ')', '10': '*', '11': '+', '12': ',', '13': '-', '14': '.', '15': '/', '16': '0', '17': '1', '18': '2', '19': '3', '20': '4', '21': '5', '22': '6', '23': '7', '24': '8', '25': ':', '26': ';', '27': '<', '28': '=', '29': '>', '30': '?', '31': '@', '32': 'A', '33': 'B', '34': 'C', '35': 'D', '36': 'E', '37': 'F', '38': 'G', '39': 'H', '40': 'I', '41': 'J', '42': 'K', '43': 'L', '44': 'M', '45': 'N', '46': 'O', '47': 'P', '48': 'R', '49': 'S', '50': 'T', '51': 'U', '52': 'V', '53': 'W', '54': 'X', '55': 'Y', '56': '[', '57': '\\\\', '58': ']', '59': '^', '60': '_', '61': '`', '62': 'a', '63': 'b', '64': 'c', '65': 'd', '66': 'e', '67': 'f', '68': 'g', '69': 'h', '70': 'i', '71': 'j', '72': 'k', '73': 'l', '74': 'm', '75': 'n', '76': 'o', '77': 'p', '78': 'q', '79': 'r', '80': 's', '81': 't', '82': 'u', '83': 'v', '84': 'w', '85': 'x', '86': 'y', '87': 'z', '88': '{', '89': '|', '90': '}', '91': '~', '92': '上', '93': '分', '94': '区', '95': '大', '96': '海', '97': '赛'}\n",
      "47399\n",
      "[[7, 82, 80, 66, 1, 80, 81, 79, 70, 64, 81, 7, 0, 0, 15, 10, 10, 0, 1, 10, 1, 44, 76, 65, 82, 73, 66, 1, 65, 66], [82, 80, 66, 1, 80, 81, 79, 70, 64, 81, 7, 0, 0, 15, 10, 10, 0, 1, 10, 1, 44, 76, 65, 82, 73, 66, 1, 65, 66, 77], [80, 66, 1, 80, 81, 79, 70, 64, 81, 7, 0, 0, 15, 10, 10, 0, 1, 10, 1, 44, 76, 65, 82, 73, 66, 1, 65, 66, 77, 66], [66, 1, 80, 81, 79, 70, 64, 81, 7, 0, 0, 15, 10, 10, 0, 1, 10, 1, 44, 76, 65, 82, 73, 66, 1, 65, 66, 77, 66, 75], [1, 80, 81, 79, 70, 64, 81, 7, 0, 0, 15, 10, 10, 0, 1, 10, 1, 44, 76, 65, 82, 73, 66, 1, 65, 66, 77, 66, 75, 65]]\n",
      "[[36, 85, 77, 79, 66, 80, 80, 1, 80, 81, 62, 79, 81, 66, 65, 1, 76, 75, 1, 77, 76, 79, 81, 1, 19, 16, 16, 16, 7, 9], [85, 77, 79, 66, 80, 80, 1, 80, 81, 62, 79, 81, 66, 65, 1, 76, 75, 1, 77, 76, 79, 81, 1, 19, 16, 16, 16, 7, 9, 26], [77, 79, 66, 80, 80, 1, 80, 81, 62, 79, 81, 66, 65, 1, 76, 75, 1, 77, 76, 79, 81, 1, 19, 16, 16, 16, 7, 9, 26, 0], [79, 66, 80, 80, 1, 80, 81, 62, 79, 81, 66, 65, 1, 76, 75, 1, 77, 76, 79, 81, 1, 19, 16, 16, 16, 7, 9, 26, 0, 90], [66, 80, 80, 1, 80, 81, 62, 79, 81, 66, 65, 1, 76, 75, 1, 77, 76, 79, 81, 1, 19, 16, 16, 16, 7, 9, 26, 0, 90, 0]]\n"
     ]
    }
   ],
   "source": [
    "import json\n",
    "\n",
    "def read_dicts(file: str):\n",
    "    # Reading from the file\n",
    "    with open(file, 'r', encoding='utf-8') as f:\n",
    "        data = json.load(f)\n",
    "        encode_dict: dict[str, int] = data['encode_dict']\n",
    "        decode_dict: dict[str, str] = data['decode_dict']\n",
    "    return encode_dict, decode_dict\n",
    "\n",
    "def read_dataset(file: str) -> list[list[int]]:\n",
    "    with open(file, 'r', encoding='utf-8') as f:\n",
    "        dataset: list[list[int]] = [list(map(int, line.split())) for line in f]\n",
    "    return dataset\n",
    "\n",
    "\n",
    "DICTS_FILE = '05.dicts.json'\n",
    "encode_dict, decode_dict = read_dicts(DICTS_FILE)\n",
    "print(encode_dict)\n",
    "print(decode_dict)\n",
    "\n",
    "DATASET_PATH = '05.dataset.txt'\n",
    "dataset = read_dataset(DATASET_PATH)\n",
    "print(len(dataset))\n",
    "print(dataset[:5]) # First 5 datapoints\n",
    "print(dataset[-5:]) # Last 5 datapoints"
   ]
  },
  {
   "cell_type": "markdown",
   "id": "7ccc9aba",
   "metadata": {},
   "source": [
    "---"
   ]
  },
  {
   "cell_type": "markdown",
   "id": "4ed0c04a",
   "metadata": {},
   "source": [
    "# Get Mini Batch"
   ]
  },
  {
   "cell_type": "code",
   "execution_count": 3,
   "id": "49d8610c",
   "metadata": {},
   "outputs": [
    {
     "name": "stdout",
     "output_type": "stream",
     "text": [
      "[[75, 1, 66, 79, 79, 76, 79, 8, 66, 79, 79, 12, 1, 79, 66, 78, 12, 1, 79, 66, 80, 12, 1, 75, 66, 85, 81, 9, 1], [82, 1, 64, 76, 82, 73, 65, 1, 70, 68, 75, 76, 79, 66, 1, 81, 69, 70, 80, 0, 1, 1, 81, 69, 70, 80, 14, 77, 62], [7, 77, 82, 63, 73, 70, 64, 7, 12, 1, 7, 64, 80, 80, 7, 9, 9, 9, 26, 0, 0, 62, 77, 77, 14, 73, 70, 80, 81], [1, 84, 76, 82, 73, 65, 0, 1, 1, 79, 66, 80, 14, 79, 66, 75, 65, 66, 79, 8, 7, 66, 85, 62, 74, 77, 73, 66, 80], [81, 50, 70, 64, 72, 8, 9, 1, 70, 80, 1, 81, 76, 1, 80, 69, 76, 84, 1, 81, 69, 62, 81, 0, 1, 1, 15, 15, 1]]\n",
      "[[0, 0, 0, 0, 0, 0, 0, 0, 0, 0, 0, 0, 0, 0, 0, 0, 0, 0, 0, 0, 0, 0, 0, 0, 0, 0, 0, 0, 0, 0, 0, 0, 0, 0, 0, 0, 0, 0, 0, 0, 0, 0, 0, 0, 0, 0, 0, 0, 0, 0, 0, 0, 0, 0, 0, 0, 0, 0, 0, 0, 0, 0, 0, 0, 0, 0, 0, 0, 0, 0, 0, 0, 0, 0, 0, 0, 0, 0, 0, 0, 0, 0, 0, 0, 0, 0, 0, 0, 1, 0, 0, 0, 0, 0, 0, 0, 0, 0], [0, 0, 0, 0, 0, 0, 0, 0, 0, 0, 0, 0, 0, 0, 0, 0, 0, 0, 0, 0, 0, 0, 0, 0, 0, 0, 0, 0, 0, 0, 0, 0, 0, 0, 0, 0, 0, 0, 0, 0, 0, 0, 0, 0, 0, 0, 0, 0, 0, 0, 0, 0, 0, 0, 0, 0, 0, 0, 0, 0, 0, 0, 0, 0, 0, 0, 0, 0, 0, 0, 0, 0, 0, 0, 0, 0, 0, 0, 0, 0, 0, 1, 0, 0, 0, 0, 0, 0, 0, 0, 0, 0, 0, 0, 0, 0, 0, 0], [0, 0, 0, 0, 0, 0, 0, 0, 0, 0, 0, 0, 0, 0, 0, 0, 0, 0, 0, 0, 0, 0, 0, 0, 0, 0, 0, 0, 0, 0, 0, 0, 0, 0, 0, 0, 0, 0, 0, 0, 0, 0, 0, 0, 0, 0, 0, 0, 0, 0, 0, 0, 0, 0, 0, 0, 0, 0, 0, 0, 0, 0, 0, 0, 0, 0, 1, 0, 0, 0, 0, 0, 0, 0, 0, 0, 0, 0, 0, 0, 0, 0, 0, 0, 0, 0, 0, 0, 0, 0, 0, 0, 0, 0, 0, 0, 0, 0], [0, 0, 0, 0, 0, 0, 0, 0, 0, 0, 0, 0, 0, 0, 0, 1, 0, 0, 0, 0, 0, 0, 0, 0, 0, 0, 0, 0, 0, 0, 0, 0, 0, 0, 0, 0, 0, 0, 0, 0, 0, 0, 0, 0, 0, 0, 0, 0, 0, 0, 0, 0, 0, 0, 0, 0, 0, 0, 0, 0, 0, 0, 0, 0, 0, 0, 0, 0, 0, 0, 0, 0, 0, 0, 0, 0, 0, 0, 0, 0, 0, 0, 0, 0, 0, 0, 0, 0, 0, 0, 0, 0, 0, 0, 0, 0, 0, 0], [0, 0, 0, 0, 0, 0, 0, 0, 0, 0, 0, 0, 0, 0, 0, 0, 0, 0, 0, 0, 0, 0, 0, 0, 0, 0, 0, 0, 0, 0, 0, 0, 0, 0, 0, 0, 0, 0, 0, 0, 0, 0, 0, 0, 0, 0, 0, 0, 0, 0, 0, 0, 0, 0, 0, 0, 0, 0, 0, 0, 0, 0, 0, 0, 0, 0, 0, 0, 0, 0, 0, 0, 0, 0, 0, 1, 0, 0, 0, 0, 0, 0, 0, 0, 0, 0, 0, 0, 0, 0, 0, 0, 0, 0, 0, 0, 0, 0]]\n",
      "[88, 81, 66, 15, 75]\n",
      "29\n",
      "98\n"
     ]
    }
   ],
   "source": [
    "import random\n",
    "\n",
    "def get_mini_batch(\n",
    "    dataset: list[list[int]],\n",
    "    n_sample: int,\n",
    "    n_labels: int,\n",
    ") -> tuple[\n",
    "        list[list[int]],\n",
    "        list[list[int]],\n",
    "        list[int],\n",
    "    ]:\n",
    "    random_sample: list[list[int]] = random.sample(dataset, n_sample)\n",
    "    x_train: list[list[int]] = [x[:-1] for x in random_sample]\n",
    "    labels: list[int] = [x[-1] for x in random_sample]\n",
    "    y_train: list[list[int]] = [\n",
    "        [1 if i == label else 0 for i in range(n_labels)] for label in labels\n",
    "    ]\n",
    "    return x_train, y_train, labels\n",
    "\n",
    "x_train, y_train, labels = get_mini_batch(dataset, 5, len(encode_dict))\n",
    "print(x_train)\n",
    "print(y_train)\n",
    "print(labels)\n",
    "\n",
    "print(len(x_train[0]))\n",
    "print(len(y_train[0]))"
   ]
  },
  {
   "cell_type": "markdown",
   "id": "9c396600",
   "metadata": {},
   "source": [
    "---"
   ]
  },
  {
   "cell_type": "markdown",
   "id": "c80779db",
   "metadata": {},
   "source": [
    "# encode and decode"
   ]
  },
  {
   "cell_type": "code",
   "execution_count": 4,
   "id": "7d3118ff",
   "metadata": {},
   "outputs": [
    {
     "name": "stdout",
     "output_type": "stream",
     "text": [
      "[69, 66, 73, 73, 76]\n",
      "hello\n"
     ]
    }
   ],
   "source": [
    "def encode(s: str) -> list[int]:\n",
    "    return [encode_dict[c] for c in s]\n",
    "\n",
    "def decode(arr: list[int]) -> str:\n",
    "    return ''.join([decode_dict[str(index)] for index in arr])\n",
    "\n",
    "print(encode(\"hello\"))\n",
    "print(decode([69, 66, 73, 73, 76]))"
   ]
  },
  {
   "cell_type": "markdown",
   "id": "0be52976",
   "metadata": {},
   "source": [
    "---"
   ]
  },
  {
   "cell_type": "markdown",
   "id": "f85a2e31",
   "metadata": {},
   "source": [
    "# Preprocessing text"
   ]
  },
  {
   "cell_type": "code",
   "execution_count": 60,
   "id": "039969ca",
   "metadata": {},
   "outputs": [
    {
     "data": {
      "image/png": "[encoded data removed]",
      "text/plain": [
       "<Figure size 640x480 with 1 Axes>"
      ]
     },
     "metadata": {},
     "output_type": "display_data"
    },
    {
     "name": "stdout",
     "output_type": "stream",
     "text": [
      "app.post('/login', function (                                                                                                                                                                                                                                                                                                                                                                                                                                                                                                                                                                                                                                                                                                                                                                                                                                                                                                                                                                                                                                        "
     ]
    }
   ],
   "source": [
    "import matplotlib.pyplot as plt\n",
    "\n",
    "def test():\n",
    "\n",
    "    # Initialize model\n",
    "    model = ClassificationUNN(input_size=29, hidden_size=5, output_size=len(encode_dict))\n",
    "\n",
    "    # Training loop\n",
    "    times: int = 1000\n",
    "    learning_rate: float = 0.1\n",
    "    losses: list[np.float64] = []\n",
    "\n",
    "    for _ in range(times):\n",
    "        X_train, y_train, _ = get_mini_batch(dataset, 64, len(encode_dict))\n",
    "        X_train = np.array(X_train)\n",
    "        y_train = np.array(y_train)\n",
    "\n",
    "        # Forward pass\n",
    "        y_pred: af64 = model.forward(X_train)\n",
    "        \n",
    "        # Compute loss\n",
    "        loss = model.compute_loss(y_pred, y_train)\n",
    "        \n",
    "        # Backward pass\n",
    "        grads = model.backward(X_train, y_train, y_pred)\n",
    "        \n",
    "        # Update weights\n",
    "        model.update(grads, lr=learning_rate)\n",
    "        \n",
    "        losses.append(loss)\n",
    "\n",
    "    plt.xlabel('epoch')\n",
    "    plt.ylabel('loss')\n",
    "    plt.plot(losses)\n",
    "    plt.show()\n",
    "\n",
    "    # Inference\n",
    "    initial_str: str = \"app.post('/login', function (\"\n",
    "    initial_encode: list[int] = encode(initial_str)\n",
    "\n",
    "    print(initial_str, end=\"\")\n",
    "    for _ in range(1000):\n",
    "        output: af64 = model.forward(np.array([initial_encode]))\n",
    "        next_index: np.intp = np.argmax(output) # 1 for \" \"\n",
    "        # next_index = np.argsort(output)[0][-2] # 66 for \"e\"\n",
    "        next_char: str = decode_dict[str(next_index)]\n",
    "        print(next_char, end=\"\")\n",
    "        initial_encode.pop(0)\n",
    "        initial_encode.append(int(next_index))\n",
    "\n",
    "test()"
   ]
  },
  {
   "cell_type": "markdown",
   "id": "d504641a",
   "metadata": {},
   "source": [
    "# "
   ]
  },
  {
   "cell_type": "markdown",
   "id": "cd78955a",
   "metadata": {},
   "source": [
    "---"
   ]
  },
  {
   "cell_type": "markdown",
   "id": "95ba3fa8",
   "metadata": {},
   "source": [
    "# Conclusion\n",
    "- The model likely predict space \" \" or \"e\" because they are most frequently characters\n",
    "- How to fix it?"
   ]
  }
 ],
 "metadata": {
  "kernelspec": {
   "display_name": ".venv",
   "language": "python",
   "name": "python3"
  },
  "language_info": {
   "codemirror_mode": {
    "name": "ipython",
    "version": 3
   },
   "file_extension": ".py",
   "mimetype": "text/x-python",
   "name": "python",
   "nbconvert_exporter": "python",
   "pygments_lexer": "ipython3",
   "version": "3.9.18"
  }
 },
 "nbformat": 4,
 "nbformat_minor": 5
}
