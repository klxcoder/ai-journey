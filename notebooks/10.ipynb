{
 "cells": [
  {
   "cell_type": "markdown",
   "id": "e3f55202",
   "metadata": {},
   "source": [
    "# minimal PyTorch autoencoder\n",
    "- that encodes $[x^2, x, x/2]$ into $[x]$ and decodes it into $[x^2, x, x/2]$"
   ]
  },
  {
   "cell_type": "code",
   "execution_count": 4,
   "id": "2687d36d",
   "metadata": {},
   "outputs": [
    {
     "name": "stdout",
     "output_type": "stream",
     "text": [
      "torch.Size([100, 3])\n",
      "torch.Size([100, 3])\n",
      "tensor([[0.0100, 0.1000, 0.0500],\n",
      "        [0.0142, 0.1192, 0.0596],\n",
      "        [0.0192, 0.1384, 0.0692],\n",
      "        [0.0248, 0.1576, 0.0788],\n",
      "        [0.0312, 0.1768, 0.0884]])\n",
      "tensor([[0.0100, 0.1000, 0.0500],\n",
      "        [0.0142, 0.1192, 0.0596],\n",
      "        [0.0192, 0.1384, 0.0692],\n",
      "        [0.0248, 0.1576, 0.0788],\n",
      "        [0.0312, 0.1768, 0.0884]])\n"
     ]
    }
   ],
   "source": [
    "import torch\n",
    "import torch.nn as nn\n",
    "import torch.optim as optim\n",
    "\n",
    "# Generate training data\n",
    "x_vals = torch.linspace(0.1, 2, 100).unsqueeze(1)\n",
    "input_data = torch.cat([x_vals**2, x_vals, x_vals/2], dim=1)\n",
    "target_data = torch.cat([x_vals**2, x_vals, x_vals/2], dim=1)\n",
    "\n",
    "print(input_data.shape)\n",
    "print(target_data.shape)\n",
    "\n",
    "print(input_data[0: 5])\n",
    "print(target_data[0: 5])"
   ]
  },
  {
   "cell_type": "code",
   "execution_count": 5,
   "id": "9bcdbb0c",
   "metadata": {},
   "outputs": [],
   "source": [
    "# Define the autoencoder\n",
    "class Autoencoder(nn.Module):\n",
    "    def __init__(self):\n",
    "        super().__init__()\n",
    "        self.encoder = nn.Sequential(\n",
    "            nn.Linear(3, 1)\n",
    "        )\n",
    "        self.decoder = nn.Sequential(\n",
    "            nn.Linear(1, 3)\n",
    "        )\n",
    "\n",
    "    def forward(self, x): # type: ignore\n",
    "        code = self.encoder(x)\n",
    "        out = self.decoder(code)\n",
    "        return out"
   ]
  },
  {
   "cell_type": "code",
   "execution_count": 19,
   "id": "0043be0b",
   "metadata": {},
   "outputs": [
    {
     "data": {
      "image/png": "[encoded data removed]",
      "text/plain": [
       "<Figure size 640x480 with 1 Axes>"
      ]
     },
     "metadata": {},
     "output_type": "display_data"
    }
   ],
   "source": [
    "import matplotlib.pyplot as plt\n",
    "\n",
    "losses = []\n",
    "\n",
    "# Training\n",
    "model = Autoencoder()\n",
    "criterion = nn.MSELoss()\n",
    "optimizer = optim.Adam(model.parameters(), lr=0.001)\n",
    "\n",
    "for epoch in range(10000):\n",
    "    optimizer.zero_grad()\n",
    "    output = model(input_data)\n",
    "    loss = criterion(output, target_data)\n",
    "    losses.append(loss.item())\n",
    "    loss.backward()\n",
    "    optimizer.step()\n",
    "\n",
    "# Plot\n",
    "plt.plot(losses)\n",
    "plt.xlabel(\"Epoch\")\n",
    "plt.ylabel(\"Loss\")\n",
    "plt.title(\"Training Loss Over Epochs\")\n",
    "plt.grid(True)\n",
    "plt.show()"
   ]
  },
  {
   "cell_type": "code",
   "execution_count": 20,
   "id": "c4f5c40c",
   "metadata": {},
   "outputs": [
    {
     "name": "stdout",
     "output_type": "stream",
     "text": [
      "test_input: tensor([[2.2500, 1.5000, 0.7500]])\n",
      "Predicted: tensor([[2.2802, 1.4473, 0.7236]], grad_fn=<AddmmBackward0>)\n"
     ]
    }
   ],
   "source": [
    "# Test\n",
    "test_x = torch.tensor([[1.5]])\n",
    "test_input = torch.cat([test_x**2, test_x, test_x/2], dim=1)\n",
    "predicted = model(test_input)\n",
    "print(\"test_input:\", test_input)\n",
    "print(\"Predicted:\", predicted)"
   ]
  }
 ],
 "metadata": {
  "kernelspec": {
   "display_name": ".venv",
   "language": "python",
   "name": "python3"
  },
  "language_info": {
   "codemirror_mode": {
    "name": "ipython",
    "version": 3
   },
   "file_extension": ".py",
   "mimetype": "text/x-python",
   "name": "python",
   "nbconvert_exporter": "python",
   "pygments_lexer": "ipython3",
   "version": "3.9.18"
  }
 },
 "nbformat": 4,
 "nbformat_minor": 5
}
